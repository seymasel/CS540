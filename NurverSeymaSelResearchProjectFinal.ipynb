{
 "cells": [
  {
   "cell_type": "markdown",
   "id": "fc6bc6a5",
   "metadata": {},
   "source": [
    "<font size=\"4\">Import libraries</font>"
   ]
  },
  {
   "cell_type": "code",
   "execution_count": 2,
   "id": "d5b746b5",
   "metadata": {},
   "outputs": [],
   "source": [
    "#install some libraries\n",
    "#!pip install imblearn\n",
    "#!pip install tensorflow\n",
    "import numpy as np # linear algebra\n",
    "import pandas as pd # data processing, CSV file I/O (e.g. pd.read_csv)\n",
    "import matplotlib.pyplot as plt\n",
    "import seaborn as sns\n",
    "\n",
    "# Classifier Libraries\n",
    "from sklearn.linear_model import LogisticRegression\n",
    "from sklearn.svm import SVC\n",
    "from sklearn.neighbors import KNeighborsClassifier\n",
    "from sklearn.tree import DecisionTreeClassifier\n",
    "from sklearn.ensemble import RandomForestClassifier\n",
    "\n",
    "#Libraries for CNN\n",
    "from tensorflow.keras.models import Sequential\n",
    "from tensorflow.keras.layers import Dense,Flatten,Conv1D,BatchNormalization,Dropout\n",
    "\n",
    "#data preparation libraries\n",
    "import collections\n",
    "from sklearn.model_selection import train_test_split\n",
    "from sklearn import preprocessing\n",
    "from sklearn.preprocessing import StandardScaler, RobustScaler #for scaling columns\n",
    "\n",
    "#performance/score libraries\n",
    "from sklearn import metrics\n",
    "from sklearn.metrics import classification_report\n",
    "from sklearn.metrics import confusion_matrix\n",
    "from sklearn.metrics import precision_score, recall_score, f1_score, roc_auc_score, accuracy_score, classification_report\n",
    "\n",
    "#for sampling libraries\n",
    "from imblearn.over_sampling import RandomOverSampler, SMOTE\n",
    "from imblearn.under_sampling import RandomUnderSampler, NearMiss\n",
    "from sklearn.utils import resample\n",
    "\n",
    "#librarires for warnings\n",
    "from collections import Counter\n",
    "import warnings\n",
    "import time\n",
    "warnings.filterwarnings(\"ignore\")"
   ]
  },
  {
   "cell_type": "markdown",
   "id": "6de45e33",
   "metadata": {},
   "source": [
    "<font size=\"4\">Get Information about the Dataset</font>\n"
   ]
  },
  {
   "cell_type": "code",
   "execution_count": 113,
   "id": "5d81424b",
   "metadata": {},
   "outputs": [
    {
     "data": {
      "text/html": [
       "<div>\n",
       "<style scoped>\n",
       "    .dataframe tbody tr th:only-of-type {\n",
       "        vertical-align: middle;\n",
       "    }\n",
       "\n",
       "    .dataframe tbody tr th {\n",
       "        vertical-align: top;\n",
       "    }\n",
       "\n",
       "    .dataframe thead th {\n",
       "        text-align: right;\n",
       "    }\n",
       "</style>\n",
       "<table border=\"1\" class=\"dataframe\">\n",
       "  <thead>\n",
       "    <tr style=\"text-align: right;\">\n",
       "      <th></th>\n",
       "      <th>Time</th>\n",
       "      <th>V1</th>\n",
       "      <th>V2</th>\n",
       "      <th>V3</th>\n",
       "      <th>V4</th>\n",
       "      <th>V5</th>\n",
       "      <th>V6</th>\n",
       "      <th>V7</th>\n",
       "      <th>V8</th>\n",
       "      <th>V9</th>\n",
       "      <th>...</th>\n",
       "      <th>V21</th>\n",
       "      <th>V22</th>\n",
       "      <th>V23</th>\n",
       "      <th>V24</th>\n",
       "      <th>V25</th>\n",
       "      <th>V26</th>\n",
       "      <th>V27</th>\n",
       "      <th>V28</th>\n",
       "      <th>Amount</th>\n",
       "      <th>Class</th>\n",
       "    </tr>\n",
       "  </thead>\n",
       "  <tbody>\n",
       "    <tr>\n",
       "      <th>0</th>\n",
       "      <td>0.0</td>\n",
       "      <td>-1.359807</td>\n",
       "      <td>-0.072781</td>\n",
       "      <td>2.536347</td>\n",
       "      <td>1.378155</td>\n",
       "      <td>-0.338321</td>\n",
       "      <td>0.462388</td>\n",
       "      <td>0.239599</td>\n",
       "      <td>0.098698</td>\n",
       "      <td>0.363787</td>\n",
       "      <td>...</td>\n",
       "      <td>-0.018307</td>\n",
       "      <td>0.277838</td>\n",
       "      <td>-0.110474</td>\n",
       "      <td>0.066928</td>\n",
       "      <td>0.128539</td>\n",
       "      <td>-0.189115</td>\n",
       "      <td>0.133558</td>\n",
       "      <td>-0.021053</td>\n",
       "      <td>149.62</td>\n",
       "      <td>0</td>\n",
       "    </tr>\n",
       "    <tr>\n",
       "      <th>1</th>\n",
       "      <td>0.0</td>\n",
       "      <td>1.191857</td>\n",
       "      <td>0.266151</td>\n",
       "      <td>0.166480</td>\n",
       "      <td>0.448154</td>\n",
       "      <td>0.060018</td>\n",
       "      <td>-0.082361</td>\n",
       "      <td>-0.078803</td>\n",
       "      <td>0.085102</td>\n",
       "      <td>-0.255425</td>\n",
       "      <td>...</td>\n",
       "      <td>-0.225775</td>\n",
       "      <td>-0.638672</td>\n",
       "      <td>0.101288</td>\n",
       "      <td>-0.339846</td>\n",
       "      <td>0.167170</td>\n",
       "      <td>0.125895</td>\n",
       "      <td>-0.008983</td>\n",
       "      <td>0.014724</td>\n",
       "      <td>2.69</td>\n",
       "      <td>0</td>\n",
       "    </tr>\n",
       "    <tr>\n",
       "      <th>2</th>\n",
       "      <td>1.0</td>\n",
       "      <td>-1.358354</td>\n",
       "      <td>-1.340163</td>\n",
       "      <td>1.773209</td>\n",
       "      <td>0.379780</td>\n",
       "      <td>-0.503198</td>\n",
       "      <td>1.800499</td>\n",
       "      <td>0.791461</td>\n",
       "      <td>0.247676</td>\n",
       "      <td>-1.514654</td>\n",
       "      <td>...</td>\n",
       "      <td>0.247998</td>\n",
       "      <td>0.771679</td>\n",
       "      <td>0.909412</td>\n",
       "      <td>-0.689281</td>\n",
       "      <td>-0.327642</td>\n",
       "      <td>-0.139097</td>\n",
       "      <td>-0.055353</td>\n",
       "      <td>-0.059752</td>\n",
       "      <td>378.66</td>\n",
       "      <td>0</td>\n",
       "    </tr>\n",
       "  </tbody>\n",
       "</table>\n",
       "<p>3 rows × 31 columns</p>\n",
       "</div>"
      ],
      "text/plain": [
       "   Time        V1        V2        V3        V4        V5        V6        V7  \\\n",
       "0   0.0 -1.359807 -0.072781  2.536347  1.378155 -0.338321  0.462388  0.239599   \n",
       "1   0.0  1.191857  0.266151  0.166480  0.448154  0.060018 -0.082361 -0.078803   \n",
       "2   1.0 -1.358354 -1.340163  1.773209  0.379780 -0.503198  1.800499  0.791461   \n",
       "\n",
       "         V8        V9  ...       V21       V22       V23       V24       V25  \\\n",
       "0  0.098698  0.363787  ... -0.018307  0.277838 -0.110474  0.066928  0.128539   \n",
       "1  0.085102 -0.255425  ... -0.225775 -0.638672  0.101288 -0.339846  0.167170   \n",
       "2  0.247676 -1.514654  ...  0.247998  0.771679  0.909412 -0.689281 -0.327642   \n",
       "\n",
       "        V26       V27       V28  Amount  Class  \n",
       "0 -0.189115  0.133558 -0.021053  149.62      0  \n",
       "1  0.125895 -0.008983  0.014724    2.69      0  \n",
       "2 -0.139097 -0.055353 -0.059752  378.66      0  \n",
       "\n",
       "[3 rows x 31 columns]"
      ]
     },
     "execution_count": 113,
     "metadata": {},
     "output_type": "execute_result"
    }
   ],
   "source": [
    "df = pd.read_csv('creditcard.csv')\n",
    "df.head(3)"
   ]
  },
  {
   "cell_type": "code",
   "execution_count": 114,
   "id": "2d4c5b63",
   "metadata": {},
   "outputs": [
    {
     "data": {
      "text/html": [
       "<div>\n",
       "<style scoped>\n",
       "    .dataframe tbody tr th:only-of-type {\n",
       "        vertical-align: middle;\n",
       "    }\n",
       "\n",
       "    .dataframe tbody tr th {\n",
       "        vertical-align: top;\n",
       "    }\n",
       "\n",
       "    .dataframe thead th {\n",
       "        text-align: right;\n",
       "    }\n",
       "</style>\n",
       "<table border=\"1\" class=\"dataframe\">\n",
       "  <thead>\n",
       "    <tr style=\"text-align: right;\">\n",
       "      <th></th>\n",
       "      <th>Time</th>\n",
       "      <th>V1</th>\n",
       "      <th>V2</th>\n",
       "      <th>V3</th>\n",
       "      <th>V4</th>\n",
       "      <th>V5</th>\n",
       "      <th>V6</th>\n",
       "      <th>V7</th>\n",
       "      <th>V8</th>\n",
       "      <th>V9</th>\n",
       "      <th>...</th>\n",
       "      <th>V21</th>\n",
       "      <th>V22</th>\n",
       "      <th>V23</th>\n",
       "      <th>V24</th>\n",
       "      <th>V25</th>\n",
       "      <th>V26</th>\n",
       "      <th>V27</th>\n",
       "      <th>V28</th>\n",
       "      <th>Amount</th>\n",
       "      <th>Class</th>\n",
       "    </tr>\n",
       "  </thead>\n",
       "  <tbody>\n",
       "    <tr>\n",
       "      <th>count</th>\n",
       "      <td>284807.000000</td>\n",
       "      <td>2.848070e+05</td>\n",
       "      <td>2.848070e+05</td>\n",
       "      <td>2.848070e+05</td>\n",
       "      <td>2.848070e+05</td>\n",
       "      <td>2.848070e+05</td>\n",
       "      <td>2.848070e+05</td>\n",
       "      <td>2.848070e+05</td>\n",
       "      <td>2.848070e+05</td>\n",
       "      <td>2.848070e+05</td>\n",
       "      <td>...</td>\n",
       "      <td>2.848070e+05</td>\n",
       "      <td>2.848070e+05</td>\n",
       "      <td>2.848070e+05</td>\n",
       "      <td>2.848070e+05</td>\n",
       "      <td>2.848070e+05</td>\n",
       "      <td>2.848070e+05</td>\n",
       "      <td>2.848070e+05</td>\n",
       "      <td>2.848070e+05</td>\n",
       "      <td>284807.000000</td>\n",
       "      <td>284807.000000</td>\n",
       "    </tr>\n",
       "    <tr>\n",
       "      <th>mean</th>\n",
       "      <td>94813.859575</td>\n",
       "      <td>3.918649e-15</td>\n",
       "      <td>5.682686e-16</td>\n",
       "      <td>-8.761736e-15</td>\n",
       "      <td>2.811118e-15</td>\n",
       "      <td>-1.552103e-15</td>\n",
       "      <td>2.040130e-15</td>\n",
       "      <td>-1.698953e-15</td>\n",
       "      <td>-1.893285e-16</td>\n",
       "      <td>-3.147640e-15</td>\n",
       "      <td>...</td>\n",
       "      <td>1.473120e-16</td>\n",
       "      <td>8.042109e-16</td>\n",
       "      <td>5.282512e-16</td>\n",
       "      <td>4.456271e-15</td>\n",
       "      <td>1.426896e-15</td>\n",
       "      <td>1.701640e-15</td>\n",
       "      <td>-3.662252e-16</td>\n",
       "      <td>-1.217809e-16</td>\n",
       "      <td>88.349619</td>\n",
       "      <td>0.001727</td>\n",
       "    </tr>\n",
       "    <tr>\n",
       "      <th>std</th>\n",
       "      <td>47488.145955</td>\n",
       "      <td>1.958696e+00</td>\n",
       "      <td>1.651309e+00</td>\n",
       "      <td>1.516255e+00</td>\n",
       "      <td>1.415869e+00</td>\n",
       "      <td>1.380247e+00</td>\n",
       "      <td>1.332271e+00</td>\n",
       "      <td>1.237094e+00</td>\n",
       "      <td>1.194353e+00</td>\n",
       "      <td>1.098632e+00</td>\n",
       "      <td>...</td>\n",
       "      <td>7.345240e-01</td>\n",
       "      <td>7.257016e-01</td>\n",
       "      <td>6.244603e-01</td>\n",
       "      <td>6.056471e-01</td>\n",
       "      <td>5.212781e-01</td>\n",
       "      <td>4.822270e-01</td>\n",
       "      <td>4.036325e-01</td>\n",
       "      <td>3.300833e-01</td>\n",
       "      <td>250.120109</td>\n",
       "      <td>0.041527</td>\n",
       "    </tr>\n",
       "    <tr>\n",
       "      <th>min</th>\n",
       "      <td>0.000000</td>\n",
       "      <td>-5.640751e+01</td>\n",
       "      <td>-7.271573e+01</td>\n",
       "      <td>-4.832559e+01</td>\n",
       "      <td>-5.683171e+00</td>\n",
       "      <td>-1.137433e+02</td>\n",
       "      <td>-2.616051e+01</td>\n",
       "      <td>-4.355724e+01</td>\n",
       "      <td>-7.321672e+01</td>\n",
       "      <td>-1.343407e+01</td>\n",
       "      <td>...</td>\n",
       "      <td>-3.483038e+01</td>\n",
       "      <td>-1.093314e+01</td>\n",
       "      <td>-4.480774e+01</td>\n",
       "      <td>-2.836627e+00</td>\n",
       "      <td>-1.029540e+01</td>\n",
       "      <td>-2.604551e+00</td>\n",
       "      <td>-2.256568e+01</td>\n",
       "      <td>-1.543008e+01</td>\n",
       "      <td>0.000000</td>\n",
       "      <td>0.000000</td>\n",
       "    </tr>\n",
       "    <tr>\n",
       "      <th>25%</th>\n",
       "      <td>54201.500000</td>\n",
       "      <td>-9.203734e-01</td>\n",
       "      <td>-5.985499e-01</td>\n",
       "      <td>-8.903648e-01</td>\n",
       "      <td>-8.486401e-01</td>\n",
       "      <td>-6.915971e-01</td>\n",
       "      <td>-7.682956e-01</td>\n",
       "      <td>-5.540759e-01</td>\n",
       "      <td>-2.086297e-01</td>\n",
       "      <td>-6.430976e-01</td>\n",
       "      <td>...</td>\n",
       "      <td>-2.283949e-01</td>\n",
       "      <td>-5.423504e-01</td>\n",
       "      <td>-1.618463e-01</td>\n",
       "      <td>-3.545861e-01</td>\n",
       "      <td>-3.171451e-01</td>\n",
       "      <td>-3.269839e-01</td>\n",
       "      <td>-7.083953e-02</td>\n",
       "      <td>-5.295979e-02</td>\n",
       "      <td>5.600000</td>\n",
       "      <td>0.000000</td>\n",
       "    </tr>\n",
       "    <tr>\n",
       "      <th>50%</th>\n",
       "      <td>84692.000000</td>\n",
       "      <td>1.810880e-02</td>\n",
       "      <td>6.548556e-02</td>\n",
       "      <td>1.798463e-01</td>\n",
       "      <td>-1.984653e-02</td>\n",
       "      <td>-5.433583e-02</td>\n",
       "      <td>-2.741871e-01</td>\n",
       "      <td>4.010308e-02</td>\n",
       "      <td>2.235804e-02</td>\n",
       "      <td>-5.142873e-02</td>\n",
       "      <td>...</td>\n",
       "      <td>-2.945017e-02</td>\n",
       "      <td>6.781943e-03</td>\n",
       "      <td>-1.119293e-02</td>\n",
       "      <td>4.097606e-02</td>\n",
       "      <td>1.659350e-02</td>\n",
       "      <td>-5.213911e-02</td>\n",
       "      <td>1.342146e-03</td>\n",
       "      <td>1.124383e-02</td>\n",
       "      <td>22.000000</td>\n",
       "      <td>0.000000</td>\n",
       "    </tr>\n",
       "    <tr>\n",
       "      <th>75%</th>\n",
       "      <td>139320.500000</td>\n",
       "      <td>1.315642e+00</td>\n",
       "      <td>8.037239e-01</td>\n",
       "      <td>1.027196e+00</td>\n",
       "      <td>7.433413e-01</td>\n",
       "      <td>6.119264e-01</td>\n",
       "      <td>3.985649e-01</td>\n",
       "      <td>5.704361e-01</td>\n",
       "      <td>3.273459e-01</td>\n",
       "      <td>5.971390e-01</td>\n",
       "      <td>...</td>\n",
       "      <td>1.863772e-01</td>\n",
       "      <td>5.285536e-01</td>\n",
       "      <td>1.476421e-01</td>\n",
       "      <td>4.395266e-01</td>\n",
       "      <td>3.507156e-01</td>\n",
       "      <td>2.409522e-01</td>\n",
       "      <td>9.104512e-02</td>\n",
       "      <td>7.827995e-02</td>\n",
       "      <td>77.165000</td>\n",
       "      <td>0.000000</td>\n",
       "    </tr>\n",
       "    <tr>\n",
       "      <th>max</th>\n",
       "      <td>172792.000000</td>\n",
       "      <td>2.454930e+00</td>\n",
       "      <td>2.205773e+01</td>\n",
       "      <td>9.382558e+00</td>\n",
       "      <td>1.687534e+01</td>\n",
       "      <td>3.480167e+01</td>\n",
       "      <td>7.330163e+01</td>\n",
       "      <td>1.205895e+02</td>\n",
       "      <td>2.000721e+01</td>\n",
       "      <td>1.559499e+01</td>\n",
       "      <td>...</td>\n",
       "      <td>2.720284e+01</td>\n",
       "      <td>1.050309e+01</td>\n",
       "      <td>2.252841e+01</td>\n",
       "      <td>4.584549e+00</td>\n",
       "      <td>7.519589e+00</td>\n",
       "      <td>3.517346e+00</td>\n",
       "      <td>3.161220e+01</td>\n",
       "      <td>3.384781e+01</td>\n",
       "      <td>25691.160000</td>\n",
       "      <td>1.000000</td>\n",
       "    </tr>\n",
       "  </tbody>\n",
       "</table>\n",
       "<p>8 rows × 31 columns</p>\n",
       "</div>"
      ],
      "text/plain": [
       "                Time            V1            V2            V3            V4  \\\n",
       "count  284807.000000  2.848070e+05  2.848070e+05  2.848070e+05  2.848070e+05   \n",
       "mean    94813.859575  3.918649e-15  5.682686e-16 -8.761736e-15  2.811118e-15   \n",
       "std     47488.145955  1.958696e+00  1.651309e+00  1.516255e+00  1.415869e+00   \n",
       "min         0.000000 -5.640751e+01 -7.271573e+01 -4.832559e+01 -5.683171e+00   \n",
       "25%     54201.500000 -9.203734e-01 -5.985499e-01 -8.903648e-01 -8.486401e-01   \n",
       "50%     84692.000000  1.810880e-02  6.548556e-02  1.798463e-01 -1.984653e-02   \n",
       "75%    139320.500000  1.315642e+00  8.037239e-01  1.027196e+00  7.433413e-01   \n",
       "max    172792.000000  2.454930e+00  2.205773e+01  9.382558e+00  1.687534e+01   \n",
       "\n",
       "                 V5            V6            V7            V8            V9  \\\n",
       "count  2.848070e+05  2.848070e+05  2.848070e+05  2.848070e+05  2.848070e+05   \n",
       "mean  -1.552103e-15  2.040130e-15 -1.698953e-15 -1.893285e-16 -3.147640e-15   \n",
       "std    1.380247e+00  1.332271e+00  1.237094e+00  1.194353e+00  1.098632e+00   \n",
       "min   -1.137433e+02 -2.616051e+01 -4.355724e+01 -7.321672e+01 -1.343407e+01   \n",
       "25%   -6.915971e-01 -7.682956e-01 -5.540759e-01 -2.086297e-01 -6.430976e-01   \n",
       "50%   -5.433583e-02 -2.741871e-01  4.010308e-02  2.235804e-02 -5.142873e-02   \n",
       "75%    6.119264e-01  3.985649e-01  5.704361e-01  3.273459e-01  5.971390e-01   \n",
       "max    3.480167e+01  7.330163e+01  1.205895e+02  2.000721e+01  1.559499e+01   \n",
       "\n",
       "       ...           V21           V22           V23           V24  \\\n",
       "count  ...  2.848070e+05  2.848070e+05  2.848070e+05  2.848070e+05   \n",
       "mean   ...  1.473120e-16  8.042109e-16  5.282512e-16  4.456271e-15   \n",
       "std    ...  7.345240e-01  7.257016e-01  6.244603e-01  6.056471e-01   \n",
       "min    ... -3.483038e+01 -1.093314e+01 -4.480774e+01 -2.836627e+00   \n",
       "25%    ... -2.283949e-01 -5.423504e-01 -1.618463e-01 -3.545861e-01   \n",
       "50%    ... -2.945017e-02  6.781943e-03 -1.119293e-02  4.097606e-02   \n",
       "75%    ...  1.863772e-01  5.285536e-01  1.476421e-01  4.395266e-01   \n",
       "max    ...  2.720284e+01  1.050309e+01  2.252841e+01  4.584549e+00   \n",
       "\n",
       "                V25           V26           V27           V28         Amount  \\\n",
       "count  2.848070e+05  2.848070e+05  2.848070e+05  2.848070e+05  284807.000000   \n",
       "mean   1.426896e-15  1.701640e-15 -3.662252e-16 -1.217809e-16      88.349619   \n",
       "std    5.212781e-01  4.822270e-01  4.036325e-01  3.300833e-01     250.120109   \n",
       "min   -1.029540e+01 -2.604551e+00 -2.256568e+01 -1.543008e+01       0.000000   \n",
       "25%   -3.171451e-01 -3.269839e-01 -7.083953e-02 -5.295979e-02       5.600000   \n",
       "50%    1.659350e-02 -5.213911e-02  1.342146e-03  1.124383e-02      22.000000   \n",
       "75%    3.507156e-01  2.409522e-01  9.104512e-02  7.827995e-02      77.165000   \n",
       "max    7.519589e+00  3.517346e+00  3.161220e+01  3.384781e+01   25691.160000   \n",
       "\n",
       "               Class  \n",
       "count  284807.000000  \n",
       "mean        0.001727  \n",
       "std         0.041527  \n",
       "min         0.000000  \n",
       "25%         0.000000  \n",
       "50%         0.000000  \n",
       "75%         0.000000  \n",
       "max         1.000000  \n",
       "\n",
       "[8 rows x 31 columns]"
      ]
     },
     "execution_count": 114,
     "metadata": {},
     "output_type": "execute_result"
    }
   ],
   "source": [
    "df.describe()"
   ]
  },
  {
   "cell_type": "code",
   "execution_count": 115,
   "id": "43308c18",
   "metadata": {},
   "outputs": [
    {
     "name": "stdout",
     "output_type": "stream",
     "text": [
      "Total number of the null values in the dataset: 0\n",
      "Number of No Frauds: 284315 equals to 99.83 % of the dataset\n",
      "Number of Frauds: 492 equals to 0.17 % of the dataset\n"
     ]
    }
   ],
   "source": [
    "print(\"Total number of the null values in the dataset:\", df.isnull().sum().max())\n",
    "print('Number of No Frauds:', (df['Class'].value_counts()[0]), \"equals to\", round(df['Class'].value_counts()[0]/len(df) * 100,2), '% of the dataset')\n",
    "print('Number of Frauds:', (df['Class'].value_counts()[1]), \"equals to\", round(df['Class'].value_counts()[1]/len(df) * 100,2), '% of the dataset')"
   ]
  },
  {
   "cell_type": "code",
   "execution_count": 116,
   "id": "ea815920",
   "metadata": {},
   "outputs": [
    {
     "name": "stdout",
     "output_type": "stream",
     "text": [
      "<class 'pandas.core.frame.DataFrame'>\n",
      "RangeIndex: 284807 entries, 0 to 284806\n",
      "Data columns (total 31 columns):\n",
      " #   Column  Non-Null Count   Dtype  \n",
      "---  ------  --------------   -----  \n",
      " 0   Time    284807 non-null  float64\n",
      " 1   V1      284807 non-null  float64\n",
      " 2   V2      284807 non-null  float64\n",
      " 3   V3      284807 non-null  float64\n",
      " 4   V4      284807 non-null  float64\n",
      " 5   V5      284807 non-null  float64\n",
      " 6   V6      284807 non-null  float64\n",
      " 7   V7      284807 non-null  float64\n",
      " 8   V8      284807 non-null  float64\n",
      " 9   V9      284807 non-null  float64\n",
      " 10  V10     284807 non-null  float64\n",
      " 11  V11     284807 non-null  float64\n",
      " 12  V12     284807 non-null  float64\n",
      " 13  V13     284807 non-null  float64\n",
      " 14  V14     284807 non-null  float64\n",
      " 15  V15     284807 non-null  float64\n",
      " 16  V16     284807 non-null  float64\n",
      " 17  V17     284807 non-null  float64\n",
      " 18  V18     284807 non-null  float64\n",
      " 19  V19     284807 non-null  float64\n",
      " 20  V20     284807 non-null  float64\n",
      " 21  V21     284807 non-null  float64\n",
      " 22  V22     284807 non-null  float64\n",
      " 23  V23     284807 non-null  float64\n",
      " 24  V24     284807 non-null  float64\n",
      " 25  V25     284807 non-null  float64\n",
      " 26  V26     284807 non-null  float64\n",
      " 27  V27     284807 non-null  float64\n",
      " 28  V28     284807 non-null  float64\n",
      " 29  Amount  284807 non-null  float64\n",
      " 30  Class   284807 non-null  int64  \n",
      "dtypes: float64(30), int64(1)\n",
      "memory usage: 67.4 MB\n"
     ]
    }
   ],
   "source": [
    "df.info()"
   ]
  },
  {
   "cell_type": "code",
   "execution_count": 117,
   "id": "09b47652",
   "metadata": {},
   "outputs": [
    {
     "data": {
      "text/plain": [
       "0    284315\n",
       "1       492\n",
       "Name: Class, dtype: int64"
      ]
     },
     "execution_count": 117,
     "metadata": {},
     "output_type": "execute_result"
    }
   ],
   "source": [
    "df['Class'].value_counts()"
   ]
  },
  {
   "cell_type": "markdown",
   "id": "23ad3cbd",
   "metadata": {},
   "source": [
    "Heat Map"
   ]
  },
  {
   "cell_type": "code",
   "execution_count": 118,
   "id": "d061b93f",
   "metadata": {},
   "outputs": [
    {
     "data": {
      "image/png": "[encoded data removed]",
      "text/plain": [
       "<Figure size 864x648 with 2 Axes>"
      ]
     },
     "metadata": {
      "needs_background": "light"
     },
     "output_type": "display_data"
    }
   ],
   "source": [
    "corrmat = df.corr()\n",
    "fig = plt.figure(figsize = (12, 9))\n",
    "sns.heatmap(corrmat, vmax = .8, square = True)\n",
    "plt.show()"
   ]
  },
  {
   "cell_type": "markdown",
   "id": "6e775844",
   "metadata": {},
   "source": [
    "<font size=\"4\">Data Visualization</font>\n"
   ]
  },
  {
   "cell_type": "code",
   "execution_count": 119,
   "id": "b4e04314",
   "metadata": {},
   "outputs": [
    {
     "data": {
      "image/png": "[encoded data removed]",
      "text/plain": [
       "<Figure size 432x288 with 1 Axes>"
      ]
     },
     "metadata": {
      "needs_background": "light"
     },
     "output_type": "display_data"
    }
   ],
   "source": [
    "colors = [\"#b9b9ff\", \"#ff2122\"]#ff6d92\n",
    "sns.countplot('Class', data=df, palette=colors)\n",
    "plt.title('Class Distributions \\n (0: No Fraud || 1: Fraud)', fontsize=14)\n",
    "plt.show()"
   ]
  },
  {
   "cell_type": "markdown",
   "id": "23a4f614",
   "metadata": {},
   "source": [
    "<font size=\"4\">Prepare data</font>"
   ]
  },
  {
   "cell_type": "code",
   "execution_count": 120,
   "id": "efdd612a",
   "metadata": {},
   "outputs": [
    {
     "data": {
      "text/plain": [
       "(25691.16, 0.0)"
      ]
     },
     "execution_count": 120,
     "metadata": {},
     "output_type": "execute_result"
    }
   ],
   "source": [
    "max(df['Amount']),min(df['Amount']) #that's why I use scaler"
   ]
  },
  {
   "cell_type": "code",
   "execution_count": 121,
   "id": "c1b567a6",
   "metadata": {},
   "outputs": [
    {
     "name": "stdout",
     "output_type": "stream",
     "text": [
      "before remove duplicates: (284807, 31)\n",
      "after remove duplicates: (283726, 31)\n"
     ]
    }
   ],
   "source": [
    "print(\"before remove duplicates:\",df.shape)\n",
    "df.drop_duplicates(inplace=True)\n",
    "print(\"after remove duplicates:\",df.shape)"
   ]
  },
  {
   "cell_type": "code",
   "execution_count": 122,
   "id": "e87ac771",
   "metadata": {},
   "outputs": [],
   "source": [
    "#Robust Scaler for scaling for time and amount columns\n",
    "rob_scaler = RobustScaler()\n",
    "df['scaled_amount'] = rob_scaler.fit_transform(df['Amount'].values.reshape(-1,1))\n",
    "df['scaled_time'] = rob_scaler.fit_transform(df['Time'].values.reshape(-1,1))\n",
    "#drop unscaled form of the time and amount from dataframe\n",
    "df.drop(['Time','Amount'], axis=1, inplace=True)"
   ]
  },
  {
   "cell_type": "markdown",
   "id": "ad5d34e6",
   "metadata": {},
   "source": [
    "<font size=\"4\">Define Target Class and the Rest</font>\n",
    "\n"
   ]
  },
  {
   "cell_type": "code",
   "execution_count": 123,
   "id": "b8beaa6f",
   "metadata": {},
   "outputs": [],
   "source": [
    "x = df.drop(['Class'], axis=1)\n",
    "y = df[\"Class\"]"
   ]
  },
  {
   "cell_type": "markdown",
   "id": "5807e639",
   "metadata": {},
   "source": [
    "<font size=\"4\">Train/Test Split</font>\n"
   ]
  },
  {
   "cell_type": "code",
   "execution_count": 124,
   "id": "8f6039d7",
   "metadata": {},
   "outputs": [],
   "source": [
    "x_train, x_test, y_train, y_test = train_test_split(x, y, test_size=0.25, random_state=42)"
   ]
  },
  {
   "cell_type": "markdown",
   "id": "8708cd11",
   "metadata": {},
   "source": [
    "<font size=\"4\">Scale the features</font>"
   ]
  },
  {
   "cell_type": "code",
   "execution_count": 125,
   "id": "f88e8f1c",
   "metadata": {},
   "outputs": [],
   "source": [
    "std_scaler=StandardScaler()\n",
    "x_train=std_scaler.fit_transform(x_train)\n",
    "x_test=std_scaler.fit_transform(x_test)"
   ]
  },
  {
   "cell_type": "markdown",
   "id": "81589963",
   "metadata": {},
   "source": [
    "<font size=\"4\">Sampling Method</font>"
   ]
  },
  {
   "cell_type": "markdown",
   "id": "61f326f9",
   "metadata": {},
   "source": [
    "<font size=\"4\">SMOTE Over-Sampling Method</font>"
   ]
  },
  {
   "cell_type": "code",
   "execution_count": 126,
   "id": "3d050a0c",
   "metadata": {},
   "outputs": [
    {
     "name": "stdout",
     "output_type": "stream",
     "text": [
      "[(0, 212433), (1, 212433)]\n"
     ]
    }
   ],
   "source": [
    "smote = SMOTE(random_state = 42)\n",
    "x_train_smote, y_train_smote = smote.fit_resample(x_train, y_train)\n",
    "print(sorted(Counter(y_train_smote).items()))"
   ]
  },
  {
   "cell_type": "code",
   "execution_count": 127,
   "id": "6334da9d",
   "metadata": {},
   "outputs": [
    {
     "data": {
      "image/png": "[encoded data removed]",
      "text/plain": [
       "<Figure size 432x288 with 1 Axes>"
      ]
     },
     "metadata": {
      "needs_background": "light"
     },
     "output_type": "display_data"
    }
   ],
   "source": [
    "x=(0,1)\n",
    "y=[y_train_smote.value_counts()[0],y_train_smote.value_counts()[1]]\n",
    "plt.bar(x,y, color=['pink', 'yellow'], tick_label=x)\n",
    "plt.xlabel('Class')\n",
    "plt.ylabel(\"Count\")\n",
    "plt.title('Class Distributions for SMOTE \\n (0: No Fraud || 1: Fraud)')\n",
    "plt.show()"
   ]
  },
  {
   "cell_type": "markdown",
   "id": "a88f1b12",
   "metadata": {},
   "source": [
    "<font size=\"4\">NearMiss Under-Sampling Method</font>"
   ]
  },
  {
   "cell_type": "code",
   "execution_count": 128,
   "id": "07e31b26",
   "metadata": {},
   "outputs": [
    {
     "name": "stdout",
     "output_type": "stream",
     "text": [
      "[(0, 361), (1, 361)]\n"
     ]
    }
   ],
   "source": [
    "#nearmiss = NearMiss(version=2) 0.46 accuracy\n",
    "nearmiss = NearMiss(version=1) #0.63 accuracy\n",
    "x_train_nearmiss, y_train_nearmiss= nearmiss.fit_resample(x_train, y_train)\n",
    "# Check the number of records after over sampling\n",
    "print(sorted(Counter(y_train_nearmiss).items()))"
   ]
  },
  {
   "cell_type": "code",
   "execution_count": 129,
   "id": "c051130b",
   "metadata": {},
   "outputs": [
    {
     "data": {
      "image/png": "[encoded data removed]",
      "text/plain": [
       "<Figure size 432x288 with 1 Axes>"
      ]
     },
     "metadata": {
      "needs_background": "light"
     },
     "output_type": "display_data"
    }
   ],
   "source": [
    "x=(0,1)\n",
    "y=[y_train_nearmiss.value_counts()[0],y_train_nearmiss.value_counts()[1]]\n",
    "plt.bar(x,y, color=['pink', 'yellow'], tick_label=x)\n",
    "plt.xlabel('Class')\n",
    "plt.ylabel(\"Count\")\n",
    "plt.title('Class Distributions for NearMiss \\n (0: No Fraud || 1: Fraud)')\n",
    "plt.show()"
   ]
  },
  {
   "cell_type": "markdown",
   "id": "b95cc07b",
   "metadata": {},
   "source": [
    "<font size=\"4\">Supervised Binary Classification Traditional ML Models</font>"
   ]
  },
  {
   "cell_type": "markdown",
   "id": "63c3fa60",
   "metadata": {},
   "source": [
    "<font size=\"4\">1) Logistic Regression</font>"
   ]
  },
  {
   "cell_type": "code",
   "execution_count": 130,
   "id": "6689e10f",
   "metadata": {},
   "outputs": [
    {
     "name": "stdout",
     "output_type": "stream",
     "text": [
      "Training time for logistic regression model: 1.0712575912475586\n",
      "              precision    recall  f1-score   support\n",
      "\n",
      "           0       1.00      1.00      1.00     70820\n",
      "           1       0.88      0.56      0.68       112\n",
      "\n",
      "    accuracy                           1.00     70932\n",
      "   macro avg       0.94      0.78      0.84     70932\n",
      "weighted avg       1.00      1.00      1.00     70932\n",
      "\n"
     ]
    }
   ],
   "source": [
    "logstart = time.time()\n",
    "logistic_reg = LogisticRegression()\n",
    "logistic_reg.fit(x_train, y_train)\n",
    "logistic_reg_y_pred = logistic_reg.predict(x_test)\n",
    "logtime=time.time() - logstart\n",
    "print(f'Training time for logistic regression model: {logtime}')\n",
    "logistic_acc = metrics.accuracy_score(y_test, logistic_reg_y_pred)\n",
    "logistic_recall = metrics.recall_score(y_test, logistic_reg_y_pred)\n",
    "logistic_roc_auc = metrics.roc_auc_score(y_test, logistic_reg_y_pred)\n",
    "print(classification_report(y_test, logistic_reg_y_pred))"
   ]
  },
  {
   "cell_type": "code",
   "execution_count": 131,
   "id": "05505a0d",
   "metadata": {},
   "outputs": [
    {
     "name": "stdout",
     "output_type": "stream",
     "text": [
      "Training time for logistic regression model: 0.25\n",
      "              precision    recall  f1-score   support\n",
      "\n",
      "           0       1.00      0.64      0.78     70820\n",
      "           1       0.00      0.91      0.01       112\n",
      "\n",
      "    accuracy                           0.64     70932\n",
      "   macro avg       0.50      0.78      0.39     70932\n",
      "weighted avg       1.00      0.64      0.78     70932\n",
      "\n"
     ]
    }
   ],
   "source": [
    "nlregstart = time.process_time()\n",
    "nlogistic_reg = LogisticRegression()\n",
    "nlogistic_reg.fit(x_train_nearmiss, y_train_nearmiss)\n",
    "nlogistic_reg_y_pred = nlogistic_reg.predict(x_test)\n",
    "nlogistic_acc = metrics.accuracy_score(y_test, nlogistic_reg_y_pred)\n",
    "nlogistic_recall = metrics.recall_score(y_test, nlogistic_reg_y_pred)\n",
    "nlogistic_roc_auc = metrics.roc_auc_score(y_test, nlogistic_reg_y_pred)\n",
    "nlregtime=time.process_time() - nlregstart\n",
    "print(f'Training time for logistic regression model: {nlregtime}')\n",
    "print(classification_report(y_test, nlogistic_reg_y_pred))"
   ]
  },
  {
   "cell_type": "code",
   "execution_count": 132,
   "id": "e615fab3",
   "metadata": {},
   "outputs": [
    {
     "name": "stdout",
     "output_type": "stream",
     "text": [
      "Training time for logistic regression model: 6.875\n",
      "              precision    recall  f1-score   support\n",
      "\n",
      "           0       1.00      0.97      0.99     70820\n",
      "           1       0.05      0.91      0.10       112\n",
      "\n",
      "    accuracy                           0.97     70932\n",
      "   macro avg       0.53      0.94      0.54     70932\n",
      "weighted avg       1.00      0.97      0.99     70932\n",
      "\n"
     ]
    }
   ],
   "source": [
    "slregstart = time.process_time()\n",
    "slogistic_reg = LogisticRegression()\n",
    "slogistic_reg.fit(x_train_smote, y_train_smote)\n",
    "slogistic_reg_y_pred = slogistic_reg.predict(x_test)\n",
    "slogistic_acc = metrics.accuracy_score(y_test, slogistic_reg_y_pred)\n",
    "slogistic_recall = metrics.recall_score(y_test, slogistic_reg_y_pred)\n",
    "slogistic_roc_auc = metrics.roc_auc_score(y_test, slogistic_reg_y_pred)\n",
    "slregtime=time.process_time() - slregstart\n",
    "print(f'Training time for logistic regression model: {slregtime}')\n",
    "print(classification_report(y_test, slogistic_reg_y_pred))"
   ]
  },
  {
   "cell_type": "code",
   "execution_count": 133,
   "id": "5eae2efa",
   "metadata": {},
   "outputs": [
    {
     "data": {
      "text/html": [
       "<div>\n",
       "<style scoped>\n",
       "    .dataframe tbody tr th:only-of-type {\n",
       "        vertical-align: middle;\n",
       "    }\n",
       "\n",
       "    .dataframe tbody tr th {\n",
       "        vertical-align: top;\n",
       "    }\n",
       "\n",
       "    .dataframe thead th {\n",
       "        text-align: right;\n",
       "    }\n",
       "</style>\n",
       "<table border=\"1\" class=\"dataframe\">\n",
       "  <thead>\n",
       "    <tr style=\"text-align: right;\">\n",
       "      <th></th>\n",
       "      <th>Logistic Regression Model</th>\n",
       "      <th>Accuracy</th>\n",
       "      <th>Recall Score</th>\n",
       "    </tr>\n",
       "  </thead>\n",
       "  <tbody>\n",
       "    <tr>\n",
       "      <th>0</th>\n",
       "      <td>Imbalanced Data</td>\n",
       "      <td>0.999182</td>\n",
       "      <td>0.562500</td>\n",
       "    </tr>\n",
       "    <tr>\n",
       "      <th>1</th>\n",
       "      <td>With Undersampling(Near Miss)</td>\n",
       "      <td>0.642348</td>\n",
       "      <td>0.910714</td>\n",
       "    </tr>\n",
       "    <tr>\n",
       "      <th>2</th>\n",
       "      <td>With Oversampling(SMOTE)</td>\n",
       "      <td>0.974299</td>\n",
       "      <td>0.910714</td>\n",
       "    </tr>\n",
       "  </tbody>\n",
       "</table>\n",
       "</div>"
      ],
      "text/plain": [
       "       Logistic Regression Model  Accuracy  Recall Score\n",
       "0                Imbalanced Data  0.999182      0.562500\n",
       "1  With Undersampling(Near Miss)  0.642348      0.910714\n",
       "2       With Oversampling(SMOTE)  0.974299      0.910714"
      ]
     },
     "execution_count": 133,
     "metadata": {},
     "output_type": "execute_result"
    }
   ],
   "source": [
    "dlog = {'Logistic Regression Model': [\"Imbalanced Data\",\"With Undersampling(Near Miss)\",\"With Oversampling(SMOTE)\"], 'Accuracy': [logistic_acc,nlogistic_acc,slogistic_acc],'Recall Score': [logistic_recall,nlogistic_recall,slogistic_recall]}\n",
    "dlog = pd.DataFrame(data=dlog)\n",
    "dlog"
   ]
  },
  {
   "cell_type": "markdown",
   "id": "6e92b52d",
   "metadata": {},
   "source": [
    "<font size=\"4\">2) Decision Tree</font>"
   ]
  },
  {
   "cell_type": "code",
   "execution_count": 134,
   "id": "94987a89",
   "metadata": {},
   "outputs": [
    {
     "name": "stdout",
     "output_type": "stream",
     "text": [
      "Training time for logistic regression model: 19.484375\n",
      "              precision    recall  f1-score   support\n",
      "\n",
      "           0       1.00      1.00      1.00     70820\n",
      "           1       0.48      0.75      0.58       112\n",
      "\n",
      "    accuracy                           1.00     70932\n",
      "   macro avg       0.74      0.87      0.79     70932\n",
      "weighted avg       1.00      1.00      1.00     70932\n",
      "\n"
     ]
    }
   ],
   "source": [
    "dtstart = time.process_time()\n",
    "dt_model = DecisionTreeClassifier(random_state=0)\n",
    "dt_model.fit(x_train, y_train)\n",
    "dt_y_pred = dt_model.predict(x_test)\n",
    "dt_acc = metrics.accuracy_score(y_test, dt_y_pred)\n",
    "dt_recall = metrics.recall_score(y_test, dt_y_pred)\n",
    "dt_precison = metrics.precision_score(y_test, dt_y_pred)\n",
    "dt_roc_auc = metrics.roc_auc_score(y_test, dt_y_pred)\n",
    "dttime=time.process_time() - dtstart\n",
    "print(f'Training time for logistic regression model: {dttime}')\n",
    "print(classification_report(y_test, dt_y_pred))"
   ]
  },
  {
   "cell_type": "code",
   "execution_count": 135,
   "id": "6fe99465",
   "metadata": {},
   "outputs": [
    {
     "name": "stdout",
     "output_type": "stream",
     "text": [
      "Training time for logistic regression model: 0.140625\n",
      "              precision    recall  f1-score   support\n",
      "\n",
      "           0       1.00      0.12      0.21     70820\n",
      "           1       0.00      0.98      0.00       112\n",
      "\n",
      "    accuracy                           0.12     70932\n",
      "   macro avg       0.50      0.55      0.11     70932\n",
      "weighted avg       1.00      0.12      0.21     70932\n",
      "\n"
     ]
    }
   ],
   "source": [
    "ndtstart = time.process_time()\n",
    "ndt_model = DecisionTreeClassifier(random_state=0)\n",
    "ndt_model.fit(x_train_nearmiss, y_train_nearmiss)\n",
    "ndt_y_pred = ndt_model.predict(x_test)\n",
    "ndt_acc = metrics.accuracy_score(y_test, ndt_y_pred)\n",
    "ndt_recall = metrics.recall_score(y_test, ndt_y_pred)\n",
    "ndt_precison = metrics.precision_score(y_test, ndt_y_pred)\n",
    "ndt_roc_auc = metrics.roc_auc_score(y_test, ndt_y_pred)\n",
    "ndttime=time.process_time() - ndtstart\n",
    "print(f'Training time for logistic regression model: {ndttime}')\n",
    "print(classification_report(y_test, ndt_y_pred))"
   ]
  },
  {
   "cell_type": "code",
   "execution_count": 136,
   "id": "88e3c4ce",
   "metadata": {},
   "outputs": [
    {
     "name": "stdout",
     "output_type": "stream",
     "text": [
      "Training time for logistic regression model: 37.6875\n",
      "              precision    recall  f1-score   support\n",
      "\n",
      "           0       1.00      1.00      1.00     70820\n",
      "           1       0.33      0.79      0.47       112\n",
      "\n",
      "    accuracy                           1.00     70932\n",
      "   macro avg       0.67      0.89      0.73     70932\n",
      "weighted avg       1.00      1.00      1.00     70932\n",
      "\n"
     ]
    }
   ],
   "source": [
    "sdtstart = time.process_time()\n",
    "sdt_model = DecisionTreeClassifier(random_state=0)\n",
    "sdt_model.fit(x_train_smote, y_train_smote)\n",
    "sdt_y_pred = sdt_model.predict(x_test)\n",
    "sdt_acc = metrics.accuracy_score(y_test, sdt_y_pred)\n",
    "sdt_recall = metrics.recall_score(y_test, sdt_y_pred)\n",
    "sdt_precison = metrics.precision_score(y_test, sdt_y_pred)\n",
    "sdt_roc_auc = metrics.roc_auc_score(y_test, sdt_y_pred)\n",
    "sdttime=time.process_time() - sdtstart\n",
    "print(f'Training time for logistic regression model: {sdttime}')\n",
    "print(classification_report(y_test, sdt_y_pred))"
   ]
  },
  {
   "cell_type": "code",
   "execution_count": 138,
   "id": "c7061955",
   "metadata": {},
   "outputs": [
    {
     "data": {
      "text/html": [
       "<div>\n",
       "<style scoped>\n",
       "    .dataframe tbody tr th:only-of-type {\n",
       "        vertical-align: middle;\n",
       "    }\n",
       "\n",
       "    .dataframe tbody tr th {\n",
       "        vertical-align: top;\n",
       "    }\n",
       "\n",
       "    .dataframe thead th {\n",
       "        text-align: right;\n",
       "    }\n",
       "</style>\n",
       "<table border=\"1\" class=\"dataframe\">\n",
       "  <thead>\n",
       "    <tr style=\"text-align: right;\">\n",
       "      <th></th>\n",
       "      <th>Decision Tree Model</th>\n",
       "      <th>Accuracy</th>\n",
       "      <th>Recall Score</th>\n",
       "    </tr>\n",
       "  </thead>\n",
       "  <tbody>\n",
       "    <tr>\n",
       "      <th>0</th>\n",
       "      <td>Imbalanced Data</td>\n",
       "      <td>0.998308</td>\n",
       "      <td>0.750000</td>\n",
       "    </tr>\n",
       "    <tr>\n",
       "      <th>1</th>\n",
       "      <td>With Undersampling(Near Miss)</td>\n",
       "      <td>0.118085</td>\n",
       "      <td>0.982143</td>\n",
       "    </tr>\n",
       "    <tr>\n",
       "      <th>2</th>\n",
       "      <td>With Oversampling(SMOTE)</td>\n",
       "      <td>0.997166</td>\n",
       "      <td>0.785714</td>\n",
       "    </tr>\n",
       "  </tbody>\n",
       "</table>\n",
       "</div>"
      ],
      "text/plain": [
       "             Decision Tree Model  Accuracy  Recall Score\n",
       "0                Imbalanced Data  0.998308      0.750000\n",
       "1  With Undersampling(Near Miss)  0.118085      0.982143\n",
       "2       With Oversampling(SMOTE)  0.997166      0.785714"
      ]
     },
     "execution_count": 138,
     "metadata": {},
     "output_type": "execute_result"
    }
   ],
   "source": [
    "ddt = {'Decision Tree Model': [\"Imbalanced Data\",\"With Undersampling(Near Miss)\",\"With Oversampling(SMOTE)\"], 'Accuracy': [dt_acc, ndt_acc, sdt_acc],'Recall Score': [dt_recall, ndt_recall,sdt_recall]}\n",
    "ddt = pd.DataFrame(data=ddt)\n",
    "ddt"
   ]
  },
  {
   "cell_type": "markdown",
   "id": "7af882b5",
   "metadata": {},
   "source": [
    "<font size=\"4\">3) Random Forest</font>"
   ]
  },
  {
   "cell_type": "code",
   "execution_count": 144,
   "id": "8e6dc042",
   "metadata": {},
   "outputs": [
    {
     "name": "stdout",
     "output_type": "stream",
     "text": [
      "Training time for random forest model: 80.39699125289917\n",
      "              precision    recall  f1-score   support\n",
      "\n",
      "           0       1.00      1.00      1.00     70820\n",
      "           1       0.95      0.69      0.80       112\n",
      "\n",
      "    accuracy                           1.00     70932\n",
      "   macro avg       0.98      0.84      0.90     70932\n",
      "weighted avg       1.00      1.00      1.00     70932\n",
      "\n"
     ]
    }
   ],
   "source": [
    "rfstart = time.time()\n",
    "rf = RandomForestClassifier(max_depth=5, random_state=0)\n",
    "rf.fit(x_train, y_train)\n",
    "rf_pred = rf.predict(x_test)\n",
    "rf_acc = metrics.accuracy_score(y_test, rf_pred)\n",
    "rf_recall = metrics.recall_score(y_test, rf_pred)\n",
    "rf_roc_auc = metrics.roc_auc_score(y_test, rf_pred)\n",
    "rftime=time.time() - rfstart\n",
    "print(f'Training time for random forest model: {rftime}')\n",
    "print(classification_report(y_test, rf_pred))"
   ]
  },
  {
   "cell_type": "code",
   "execution_count": 145,
   "id": "4d4cbc45",
   "metadata": {},
   "outputs": [
    {
     "name": "stdout",
     "output_type": "stream",
     "text": [
      "Training time for random forest model: 0.7629671096801758\n",
      "              precision    recall  f1-score   support\n",
      "\n",
      "           0       1.00      1.00      1.00     70820\n",
      "           1       0.95      0.69      0.80       112\n",
      "\n",
      "    accuracy                           1.00     70932\n",
      "   macro avg       0.98      0.84      0.90     70932\n",
      "weighted avg       1.00      1.00      1.00     70932\n",
      "\n"
     ]
    }
   ],
   "source": [
    "nrfstart = time.time()\n",
    "nrf = RandomForestClassifier(max_depth=5, random_state=0)\n",
    "nrf.fit(x_train_nearmiss, y_train_nearmiss)\n",
    "nrf_pred = rf.predict(x_test)\n",
    "nrf_acc = metrics.accuracy_score(y_test, nrf_pred)\n",
    "nrf_recall = metrics.recall_score(y_test, nrf_pred)\n",
    "nrf_roc_auc = metrics.roc_auc_score(y_test, nrf_pred)\n",
    "nrftime=time.time() - nrfstart\n",
    "print(f'Training time for random forest model: {nrftime}')\n",
    "print(classification_report(y_test, nrf_pred))"
   ]
  },
  {
   "cell_type": "code",
   "execution_count": 148,
   "id": "234a5dd5",
   "metadata": {},
   "outputs": [
    {
     "name": "stdout",
     "output_type": "stream",
     "text": [
      "Training time for random forest model: 267.99491262435913\n",
      "              precision    recall  f1-score   support\n",
      "\n",
      "           0       1.00      1.00      1.00     70820\n",
      "           1       0.23      0.86      0.36       112\n",
      "\n",
      "    accuracy                           1.00     70932\n",
      "   macro avg       0.62      0.93      0.68     70932\n",
      "weighted avg       1.00      1.00      1.00     70932\n",
      "\n"
     ]
    }
   ],
   "source": [
    "srfstart = time.time()\n",
    "srf = RandomForestClassifier(max_depth=5, random_state=0)\n",
    "srf.fit(x_train_smote, y_train_smote)\n",
    "srf_pred = srf.predict(x_test)\n",
    "srf_acc = metrics.accuracy_score(y_test, srf_pred)\n",
    "srf_recall = metrics.recall_score(y_test, srf_pred)\n",
    "srf_roc_auc = metrics.roc_auc_score(y_test, srf_pred)\n",
    "srftime=time.time() - srfstart\n",
    "print(f'Training time for random forest model: {srftime}')\n",
    "print(classification_report(y_test, srf_pred))"
   ]
  },
  {
   "cell_type": "code",
   "execution_count": 149,
   "id": "bfcd2964",
   "metadata": {},
   "outputs": [
    {
     "data": {
      "text/html": [
       "<div>\n",
       "<style scoped>\n",
       "    .dataframe tbody tr th:only-of-type {\n",
       "        vertical-align: middle;\n",
       "    }\n",
       "\n",
       "    .dataframe tbody tr th {\n",
       "        vertical-align: top;\n",
       "    }\n",
       "\n",
       "    .dataframe thead th {\n",
       "        text-align: right;\n",
       "    }\n",
       "</style>\n",
       "<table border=\"1\" class=\"dataframe\">\n",
       "  <thead>\n",
       "    <tr style=\"text-align: right;\">\n",
       "      <th></th>\n",
       "      <th>Random Forest Model</th>\n",
       "      <th>Accuracy</th>\n",
       "      <th>Recall Score</th>\n",
       "    </tr>\n",
       "  </thead>\n",
       "  <tbody>\n",
       "    <tr>\n",
       "      <th>0</th>\n",
       "      <td>Imbalanced Data</td>\n",
       "      <td>0.999450</td>\n",
       "      <td>0.687500</td>\n",
       "    </tr>\n",
       "    <tr>\n",
       "      <th>1</th>\n",
       "      <td>With Undersampling(Near Miss)</td>\n",
       "      <td>0.999450</td>\n",
       "      <td>0.687500</td>\n",
       "    </tr>\n",
       "    <tr>\n",
       "      <th>2</th>\n",
       "      <td>With Oversampling(SMOTE)</td>\n",
       "      <td>0.995263</td>\n",
       "      <td>0.857143</td>\n",
       "    </tr>\n",
       "  </tbody>\n",
       "</table>\n",
       "</div>"
      ],
      "text/plain": [
       "             Random Forest Model  Accuracy  Recall Score\n",
       "0                Imbalanced Data  0.999450      0.687500\n",
       "1  With Undersampling(Near Miss)  0.999450      0.687500\n",
       "2       With Oversampling(SMOTE)  0.995263      0.857143"
      ]
     },
     "execution_count": 149,
     "metadata": {},
     "output_type": "execute_result"
    }
   ],
   "source": [
    "drf = {'Random Forest Model': [\"Imbalanced Data\",\"With Undersampling(Near Miss)\",\"With Oversampling(SMOTE)\"], 'Accuracy': [rf_acc, nrf_acc, srf_acc],'Recall Score': [rf_recall, nrf_recall,srf_recall]}\n",
    "drf = pd.DataFrame(data=drf)\n",
    "drf"
   ]
  },
  {
   "cell_type": "markdown",
   "id": "3978a964",
   "metadata": {},
   "source": [
    "<font size=\"4\"> CNN</font>"
   ]
  },
  {
   "cell_type": "markdown",
   "id": "19d4c17d",
   "metadata": {},
   "source": [
    "<font size=\"3\"> IMBALANCED CNN</font>"
   ]
  },
  {
   "cell_type": "code",
   "execution_count": 67,
   "id": "6fb97c8a",
   "metadata": {},
   "outputs": [
    {
     "data": {
      "text/plain": [
       "((213605, 30, 1), (71202, 30, 1))"
      ]
     },
     "execution_count": 67,
     "metadata": {},
     "output_type": "execute_result"
    }
   ],
   "source": [
    "#reshaping the input to 3D for the CNN model\n",
    "x_train=x_train.reshape(x_train.shape[0],x_train.shape[1],1)\n",
    "x_test=x_test.reshape(x_test.shape[0],x_test.shape[1],1)\n",
    "x_train.shape, x_test.shape # check the shape again"
   ]
  },
  {
   "cell_type": "code",
   "execution_count": 68,
   "id": "132f6680",
   "metadata": {},
   "outputs": [],
   "source": [
    "# import model\n",
    "model=Sequential()\n",
    "# layers\n",
    "model.add(Conv1D(filters=32, kernel_size=2, activation='relu', input_shape=x_train[0].shape))\n",
    "model.add(BatchNormalization())\n",
    "model.add(Dropout(0.2))\n",
    "model.add(Conv1D(filters=64, kernel_size=2, activation='relu'))\n",
    "model.add(BatchNormalization())\n",
    "model.add(Dropout(0.2))\n",
    "# build ANN\n",
    "model.add(Flatten())\n",
    "model.add(Dense(64, activation='relu'))\n",
    "model.add(Dropout(0.5))\n",
    "#model.add(Dense(1, activation='relu'))# accuracy: 0.9365\n",
    "model.add(Dense(1, activation='sigmoid'))\n",
    "#model.summary()"
   ]
  },
  {
   "cell_type": "code",
   "execution_count": 71,
   "id": "c0222782",
   "metadata": {},
   "outputs": [
    {
     "name": "stdout",
     "output_type": "stream",
     "text": [
      "Epoch 1/20\n",
      "6676/6676 [==============================] - 29s 4ms/step - loss: 0.0111 - accuracy: 0.9983 - val_loss: 0.0051 - val_accuracy: 0.9987\n",
      "Epoch 2/20\n",
      "6676/6676 [==============================] - 31s 5ms/step - loss: 0.0061 - accuracy: 0.9991 - val_loss: 0.0038 - val_accuracy: 0.9993\n",
      "Epoch 3/20\n",
      "6676/6676 [==============================] - 32s 5ms/step - loss: 0.0051 - accuracy: 0.9991 - val_loss: 0.0039 - val_accuracy: 0.9993\n",
      "Epoch 4/20\n",
      "6676/6676 [==============================] - 32s 5ms/step - loss: 0.0045 - accuracy: 0.9993 - val_loss: 0.0038 - val_accuracy: 0.9993\n",
      "Epoch 5/20\n",
      "6676/6676 [==============================] - 32s 5ms/step - loss: 0.0042 - accuracy: 0.9993 - val_loss: 0.0025 - val_accuracy: 0.9994\n",
      "Epoch 6/20\n",
      "6676/6676 [==============================] - 34s 5ms/step - loss: 0.0041 - accuracy: 0.9993 - val_loss: 0.0034 - val_accuracy: 0.9993\n",
      "Epoch 7/20\n",
      "6676/6676 [==============================] - 36s 5ms/step - loss: 0.0037 - accuracy: 0.9993 - val_loss: 0.0030 - val_accuracy: 0.9993\n",
      "Epoch 8/20\n",
      "6676/6676 [==============================] - 35s 5ms/step - loss: 0.0036 - accuracy: 0.9993 - val_loss: 0.0034 - val_accuracy: 0.9993\n",
      "Epoch 9/20\n",
      "6676/6676 [==============================] - 35s 5ms/step - loss: 0.0039 - accuracy: 0.9993 - val_loss: 0.0040 - val_accuracy: 0.9994\n",
      "Epoch 10/20\n",
      "6676/6676 [==============================] - 36s 5ms/step - loss: 0.0037 - accuracy: 0.9993 - val_loss: 0.0033 - val_accuracy: 0.9993\n",
      "Epoch 11/20\n",
      "6676/6676 [==============================] - 35s 5ms/step - loss: 0.0035 - accuracy: 0.9994 - val_loss: 0.0030 - val_accuracy: 0.9993\n",
      "Epoch 12/20\n",
      "6676/6676 [==============================] - 36s 5ms/step - loss: 0.0034 - accuracy: 0.9993 - val_loss: 0.0041 - val_accuracy: 0.9994\n",
      "Epoch 13/20\n",
      "6676/6676 [==============================] - 39s 6ms/step - loss: 0.0033 - accuracy: 0.9993 - val_loss: 0.0035 - val_accuracy: 0.9993\n",
      "Epoch 14/20\n",
      "6676/6676 [==============================] - 37s 6ms/step - loss: 0.0032 - accuracy: 0.9994 - val_loss: 0.0028 - val_accuracy: 0.9994\n",
      "Epoch 15/20\n",
      "6676/6676 [==============================] - 38s 6ms/step - loss: 0.0033 - accuracy: 0.9994 - val_loss: 0.0031 - val_accuracy: 0.9994\n",
      "Epoch 16/20\n",
      "6676/6676 [==============================] - 37s 5ms/step - loss: 0.0034 - accuracy: 0.9993 - val_loss: 0.0030 - val_accuracy: 0.9993\n",
      "Epoch 17/20\n",
      "6676/6676 [==============================] - 37s 6ms/step - loss: 0.0032 - accuracy: 0.9993 - val_loss: 0.0030 - val_accuracy: 0.9993\n",
      "Epoch 18/20\n",
      "6676/6676 [==============================] - 35s 5ms/step - loss: 0.0031 - accuracy: 0.9994 - val_loss: 0.0028 - val_accuracy: 0.9994\n",
      "Epoch 19/20\n",
      "6676/6676 [==============================] - 35s 5ms/step - loss: 0.0031 - accuracy: 0.9994 - val_loss: 0.0034 - val_accuracy: 0.9993\n",
      "Epoch 20/20\n",
      "6676/6676 [==============================] - 35s 5ms/step - loss: 0.0030 - accuracy: 0.9994 - val_loss: 0.0031 - val_accuracy: 0.9994\n",
      "Training time for CNN model: 695.6865367889404\n"
     ]
    }
   ],
   "source": [
    "model.compile(optimizer='adam', loss='binary_crossentropy', metrics=['accuracy'])\n",
    "cnnstart = time.time()\n",
    "history=model.fit(x_train,y_train,epochs=20,validation_data=(x_test,y_test))\n",
    "cnntime=time.time() - cnnstart\n",
    "print(f'Training time for CNN model: {cnntime}')"
   ]
  },
  {
   "cell_type": "code",
   "execution_count": 150,
   "id": "1a584727",
   "metadata": {},
   "outputs": [
    {
     "name": "stdout",
     "output_type": "stream",
     "text": [
      "train acc:  0.9994522333145142\n",
      "test acc:  0.9993539452552795\n",
      "2226/2226 [==============================] - 6s 3ms/step\n",
      "0.9853807834302681\n"
     ]
    }
   ],
   "source": [
    "# evaluate the model\n",
    "_, train_acc = model.evaluate(x_train, y_train, verbose=0)\n",
    "_, test_acc = model.evaluate(x_test, y_test, verbose=0)\n",
    "print(\"train acc: \", train_acc)\n",
    "print(\"test acc: \", test_acc)\n",
    "# predict probabilities for test set\n",
    "yhat_probs = model.predict(x_test, verbose=0)\n",
    "# predict crisp classes for test set\n",
    "yhat_classes = (model.predict(x_test) > 0.5).astype(\"int32\")\n",
    "# reduce to 1d array\n",
    "yhat_probs = yhat_probs[:, 0]\n",
    "yhat_classes = yhat_classes[:, 0]\n",
    "cnn_acc = accuracy_score(y_test, yhat_classes) # accuracy: (tp + tn) / (p + n)\n",
    "cnn_auc = roc_auc_score(y_test, yhat_probs)\n",
    "print(cnn_auc)"
   ]
  },
  {
   "cell_type": "markdown",
   "id": "791a27bb",
   "metadata": {},
   "source": [
    "<font size=\"3\"> NEARMISS CNN</font>"
   ]
  },
  {
   "cell_type": "code",
   "execution_count": 86,
   "id": "2de43c48",
   "metadata": {},
   "outputs": [
    {
     "data": {
      "text/plain": [
       "((758, 30, 1), (71202, 30, 1))"
      ]
     },
     "execution_count": 86,
     "metadata": {},
     "output_type": "execute_result"
    }
   ],
   "source": [
    "#reshaping the input to 3D for the CNN model\n",
    "x_train_nearmiss=x_train_nearmiss.reshape(x_train_nearmiss.shape[0],x_train_nearmiss.shape[1],1)\n",
    "x_test=x_test.reshape(x_test.shape[0],x_test.shape[1],1)\n",
    "x_train_nearmiss.shape, x_test.shape # check the shape again"
   ]
  },
  {
   "cell_type": "code",
   "execution_count": 91,
   "id": "5ac54df9",
   "metadata": {},
   "outputs": [],
   "source": [
    "# import model\n",
    "nmodel=Sequential()\n",
    "# layers\n",
    "nmodel.add(Conv1D(filters=32, kernel_size=2, activation='relu', input_shape=x_train_nearmiss[0].shape))\n",
    "nmodel.add(BatchNormalization())\n",
    "nmodel.add(Dropout(0.2))\n",
    "nmodel.add(Conv1D(filters=64, kernel_size=2, activation='relu'))\n",
    "nmodel.add(BatchNormalization())\n",
    "nmodel.add(Dropout(0.2))\n",
    "# build ANN\n",
    "nmodel.add(Flatten())\n",
    "nmodel.add(Dense(64, activation='relu'))\n",
    "nmodel.add(Dropout(0.5))\n",
    "#model.add(Dense(1, activation='relu'))# accuracy: 0.9365\n",
    "nmodel.add(Dense(1, activation='sigmoid'))\n",
    "#model.summary()"
   ]
  },
  {
   "cell_type": "code",
   "execution_count": 92,
   "id": "7c05484d",
   "metadata": {},
   "outputs": [
    {
     "name": "stdout",
     "output_type": "stream",
     "text": [
      "Epoch 1/20\n",
      "24/24 [==============================] - 3s 99ms/step - loss: 0.2887 - accuracy: 0.9024 - val_loss: 0.8348 - val_accuracy: 0.1752\n",
      "Epoch 2/20\n",
      "24/24 [==============================] - 2s 104ms/step - loss: 0.1721 - accuracy: 0.9459 - val_loss: 0.7853 - val_accuracy: 0.4056\n",
      "Epoch 3/20\n",
      "24/24 [==============================] - 2s 103ms/step - loss: 0.1408 - accuracy: 0.9551 - val_loss: 0.9136 - val_accuracy: 0.1146\n",
      "Epoch 4/20\n",
      "24/24 [==============================] - 2s 100ms/step - loss: 0.1386 - accuracy: 0.9604 - val_loss: 1.0597 - val_accuracy: 0.0792\n",
      "Epoch 5/20\n",
      "24/24 [==============================] - 2s 99ms/step - loss: 0.1040 - accuracy: 0.9644 - val_loss: 1.3378 - val_accuracy: 0.0424\n",
      "Epoch 6/20\n",
      "24/24 [==============================] - 2s 108ms/step - loss: 0.1199 - accuracy: 0.9617 - val_loss: 1.4741 - val_accuracy: 0.0532\n",
      "Epoch 7/20\n",
      "24/24 [==============================] - 3s 120ms/step - loss: 0.0978 - accuracy: 0.9697 - val_loss: 1.5155 - val_accuracy: 0.1098\n",
      "Epoch 8/20\n",
      "24/24 [==============================] - 2s 108ms/step - loss: 0.1117 - accuracy: 0.9697 - val_loss: 1.6775 - val_accuracy: 0.0888\n",
      "Epoch 9/20\n",
      "24/24 [==============================] - 2s 102ms/step - loss: 0.0932 - accuracy: 0.9736 - val_loss: 1.9874 - val_accuracy: 0.0852\n",
      "Epoch 10/20\n",
      "24/24 [==============================] - 2s 102ms/step - loss: 0.0938 - accuracy: 0.9749 - val_loss: 2.0987 - val_accuracy: 0.1121\n",
      "Epoch 11/20\n",
      "24/24 [==============================] - 2s 103ms/step - loss: 0.1077 - accuracy: 0.9657 - val_loss: 2.2650 - val_accuracy: 0.1150\n",
      "Epoch 12/20\n",
      "24/24 [==============================] - 2s 103ms/step - loss: 0.0921 - accuracy: 0.9776 - val_loss: 2.1190 - val_accuracy: 0.2095\n",
      "Epoch 13/20\n",
      "24/24 [==============================] - 2s 107ms/step - loss: 0.0936 - accuracy: 0.9670 - val_loss: 1.9768 - val_accuracy: 0.2488\n",
      "Epoch 14/20\n",
      "24/24 [==============================] - 3s 147ms/step - loss: 0.0820 - accuracy: 0.9749 - val_loss: 1.9276 - val_accuracy: 0.3011\n",
      "Epoch 15/20\n",
      "24/24 [==============================] - 4s 153ms/step - loss: 0.0849 - accuracy: 0.9736 - val_loss: 1.8351 - val_accuracy: 0.3922\n",
      "Epoch 16/20\n",
      "24/24 [==============================] - 3s 120ms/step - loss: 0.0906 - accuracy: 0.9763 - val_loss: 2.5444 - val_accuracy: 0.2557\n",
      "Epoch 17/20\n",
      "24/24 [==============================] - 4s 160ms/step - loss: 0.0915 - accuracy: 0.9723 - val_loss: 2.2812 - val_accuracy: 0.3280\n",
      "Epoch 18/20\n",
      "24/24 [==============================] - 3s 148ms/step - loss: 0.0949 - accuracy: 0.9697 - val_loss: 2.2772 - val_accuracy: 0.3540\n",
      "Epoch 19/20\n",
      "24/24 [==============================] - 3s 131ms/step - loss: 0.0858 - accuracy: 0.9776 - val_loss: 2.9732 - val_accuracy: 0.2304\n",
      "Epoch 20/20\n",
      "24/24 [==============================] - 3s 125ms/step - loss: 0.0874 - accuracy: 0.9776 - val_loss: 2.6577 - val_accuracy: 0.3046\n",
      "Training time for CNN model: 4366.711725234985\n"
     ]
    }
   ],
   "source": [
    "nmodel.compile(optimizer='adam', loss='binary_crossentropy', metrics=['accuracy'])\n",
    "ncnnstart = time.time()\n",
    "nhistory=nmodel.fit(x_train_nearmiss,y_train_nearmiss,epochs=20,validation_data=(x_test,y_test))\n",
    "ncnntime=time.time() - cnnstart\n",
    "print(f'Training time for CNN model: {ncnntime}')"
   ]
  },
  {
   "cell_type": "code",
   "execution_count": 95,
   "id": "24887b42",
   "metadata": {},
   "outputs": [
    {
     "name": "stdout",
     "output_type": "stream",
     "text": [
      "train acc:  0.9868074059486389\n",
      "test acc:  0.30457010865211487\n",
      "2226/2226 [==============================] - 2s 1ms/step\n",
      "0.8825707324123306\n"
     ]
    }
   ],
   "source": [
    "# evaluate the model\n",
    "_, ntrain_acc = nmodel.evaluate(x_train_nearmiss, y_train_nearmiss, verbose=0)\n",
    "_, ntest_acc = nmodel.evaluate(x_test, y_test, verbose=0)\n",
    "print(\"train acc: \", ntrain_acc)\n",
    "print(\"test acc: \", ntest_acc)\n",
    "# predict probabilities for test set\n",
    "nyhat_probs = nmodel.predict(x_test, verbose=0)\n",
    "# predict crisp classes for test set\n",
    "nyhat_classes = (nmodel.predict(x_test) > 0.5).astype(\"int32\")\n",
    "# reduce to 1d array\n",
    "nyhat_probs = nyhat_probs[:, 0]\n",
    "nyhat_classes = nyhat_classes[:, 0]\n",
    "ncnn_acc = accuracy_score(y_test, nyhat_classes) # accuracy: (tp + tn) / (p + n)\n",
    "ncnn_auc = roc_auc_score(y_test, nyhat_probs)\n",
    "print(ncnn_auc)"
   ]
  },
  {
   "cell_type": "markdown",
   "id": "0692b01f",
   "metadata": {},
   "source": [
    "<font size=\"3\"> SMOTE CNN</font>"
   ]
  },
  {
   "cell_type": "code",
   "execution_count": 96,
   "id": "873aad7d",
   "metadata": {},
   "outputs": [
    {
     "data": {
      "text/plain": [
       "((426452, 30, 1), (71202, 30, 1))"
      ]
     },
     "execution_count": 96,
     "metadata": {},
     "output_type": "execute_result"
    }
   ],
   "source": [
    "#reshaping the input to 3D for the CNN model\n",
    "x_train_smote=x_train_smote.reshape(x_train_smote.shape[0],x_train_smote.shape[1],1)\n",
    "x_test=x_test.reshape(x_test.shape[0],x_test.shape[1],1)\n",
    "x_train_smote.shape, x_test.shape # check the shape again"
   ]
  },
  {
   "cell_type": "code",
   "execution_count": 97,
   "id": "1800a579",
   "metadata": {},
   "outputs": [],
   "source": [
    "# import model\n",
    "smodel=Sequential()\n",
    "# layers\n",
    "smodel.add(Conv1D(filters=32, kernel_size=2, activation='relu', input_shape=x_train_smote[0].shape))\n",
    "smodel.add(BatchNormalization())\n",
    "smodel.add(Dropout(0.2))\n",
    "smodel.add(Conv1D(filters=64, kernel_size=2, activation='relu'))\n",
    "smodel.add(BatchNormalization())\n",
    "smodel.add(Dropout(0.2))\n",
    "# build ANN\n",
    "smodel.add(Flatten())\n",
    "smodel.add(Dense(64, activation='relu'))\n",
    "smodel.add(Dropout(0.5))\n",
    "#model.add(Dense(1, activation='relu'))# accuracy: 0.9365\n",
    "smodel.add(Dense(1, activation='sigmoid'))\n",
    "#model.summary()"
   ]
  },
  {
   "cell_type": "code",
   "execution_count": 98,
   "id": "f4326a99",
   "metadata": {},
   "outputs": [
    {
     "name": "stdout",
     "output_type": "stream",
     "text": [
      "Epoch 1/20\n",
      "6676/6676 [==============================] - 35s 5ms/step - loss: 0.0097 - accuracy: 0.9987 - val_loss: 0.0040 - val_accuracy: 0.9992\n",
      "Epoch 2/20\n",
      "6676/6676 [==============================] - 41s 6ms/step - loss: 0.0058 - accuracy: 0.9991 - val_loss: 0.0043 - val_accuracy: 0.9991\n",
      "Epoch 3/20\n",
      "6676/6676 [==============================] - 36s 5ms/step - loss: 0.0051 - accuracy: 0.9992 - val_loss: 0.0038 - val_accuracy: 0.9994\n",
      "Epoch 4/20\n",
      "6676/6676 [==============================] - 41s 6ms/step - loss: 0.0044 - accuracy: 0.9992 - val_loss: 0.0030 - val_accuracy: 0.9994\n",
      "Epoch 5/20\n",
      "6676/6676 [==============================] - 41s 6ms/step - loss: 0.0040 - accuracy: 0.9993 - val_loss: 0.0031 - val_accuracy: 0.9993\n",
      "Epoch 6/20\n",
      "6676/6676 [==============================] - 39s 6ms/step - loss: 0.0041 - accuracy: 0.9993 - val_loss: 0.0028 - val_accuracy: 0.9994\n",
      "Epoch 7/20\n",
      "6676/6676 [==============================] - 41s 6ms/step - loss: 0.0037 - accuracy: 0.9994 - val_loss: 0.0030 - val_accuracy: 0.9994\n",
      "Epoch 8/20\n",
      "6676/6676 [==============================] - 48s 7ms/step - loss: 0.0036 - accuracy: 0.9993 - val_loss: 0.0035 - val_accuracy: 0.9993\n",
      "Epoch 9/20\n",
      "6676/6676 [==============================] - 43s 6ms/step - loss: 0.0037 - accuracy: 0.9993 - val_loss: 0.0029 - val_accuracy: 0.9993\n",
      "Epoch 10/20\n",
      "6676/6676 [==============================] - 42s 6ms/step - loss: 0.0035 - accuracy: 0.9993 - val_loss: 0.0029 - val_accuracy: 0.9994\n",
      "Epoch 11/20\n",
      "6676/6676 [==============================] - 40s 6ms/step - loss: 0.0034 - accuracy: 0.9993 - val_loss: 0.0031 - val_accuracy: 0.9993\n",
      "Epoch 12/20\n",
      "6676/6676 [==============================] - 40s 6ms/step - loss: 0.0033 - accuracy: 0.9993 - val_loss: 0.0036 - val_accuracy: 0.9993\n",
      "Epoch 13/20\n",
      "6676/6676 [==============================] - 39s 6ms/step - loss: 0.0033 - accuracy: 0.9993 - val_loss: 0.0035 - val_accuracy: 0.9993\n",
      "Epoch 14/20\n",
      "6676/6676 [==============================] - 43s 6ms/step - loss: 0.0031 - accuracy: 0.9994 - val_loss: 0.0034 - val_accuracy: 0.9993\n",
      "Epoch 15/20\n",
      "6676/6676 [==============================] - 41s 6ms/step - loss: 0.0031 - accuracy: 0.9994 - val_loss: 0.0031 - val_accuracy: 0.9994\n",
      "Epoch 16/20\n",
      "6676/6676 [==============================] - 39s 6ms/step - loss: 0.0031 - accuracy: 0.9994 - val_loss: 0.0026 - val_accuracy: 0.9994\n",
      "Epoch 17/20\n",
      "6676/6676 [==============================] - 39s 6ms/step - loss: 0.0033 - accuracy: 0.9994 - val_loss: 0.0030 - val_accuracy: 0.9994\n",
      "Epoch 18/20\n",
      "6676/6676 [==============================] - 39s 6ms/step - loss: 0.0030 - accuracy: 0.9994 - val_loss: 0.0037 - val_accuracy: 0.9993\n",
      "Epoch 19/20\n",
      "6676/6676 [==============================] - 42s 6ms/step - loss: 0.0029 - accuracy: 0.9994 - val_loss: 0.0032 - val_accuracy: 0.9993\n",
      "Epoch 20/20\n",
      "6676/6676 [==============================] - 43s 6ms/step - loss: 0.0030 - accuracy: 0.9994 - val_loss: 0.0027 - val_accuracy: 0.9994\n",
      "Training time for CNN model: 5355.160914182663\n"
     ]
    }
   ],
   "source": [
    "smodel.compile(optimizer='adam', loss='binary_crossentropy', metrics=['accuracy'])\n",
    "scnnstart = time.time()\n",
    "shistory=smodel.fit(x_train,y_train,epochs=20,validation_data=(x_test,y_test))\n",
    "scnntime=time.time() - cnnstart\n",
    "print(f'Training time for CNN model: {scnntime}')"
   ]
  },
  {
   "cell_type": "code",
   "execution_count": 99,
   "id": "593c056e",
   "metadata": {},
   "outputs": [
    {
     "name": "stdout",
     "output_type": "stream",
     "text": [
      "train acc:  0.8994259834289551\n",
      "test acc:  0.9994101524353027\n",
      "2226/2226 [==============================] - 3s 1ms/step\n",
      "0.9886187786293561\n"
     ]
    }
   ],
   "source": [
    "# evaluate the model\n",
    "_, strain_acc = smodel.evaluate(x_train_smote, y_train_smote, verbose=0)\n",
    "_, stest_acc = smodel.evaluate(x_test, y_test, verbose=0)\n",
    "print(\"train acc: \", strain_acc)\n",
    "print(\"test acc: \", stest_acc)\n",
    "# predict probabilities for test set\n",
    "syhat_probs = smodel.predict(x_test, verbose=0)\n",
    "# predict crisp classes for test set\n",
    "syhat_classes = (smodel.predict(x_test) > 0.5).astype(\"int32\")\n",
    "# reduce to 1d array\n",
    "syhat_probs = syhat_probs[:, 0]\n",
    "syhat_classes = syhat_classes[:, 0]\n",
    "scnn_acc = accuracy_score(y_test, syhat_classes) # accuracy: (tp + tn) / (p + n)\n",
    "scnn_auc = roc_auc_score(y_test, syhat_probs)\n",
    "print(scnn_auc)"
   ]
  },
  {
   "cell_type": "markdown",
   "id": "ec7f0222",
   "metadata": {},
   "source": [
    "<font size=\"3\">ACCURACY AND LOSS PLOT OF CNN MODELS</font>"
   ]
  },
  {
   "cell_type": "code",
   "execution_count": 184,
   "id": "d22af06e",
   "metadata": {},
   "outputs": [
    {
     "data": {
      "image/png": "[encoded data removed]",
      "text/plain": [
       "<Figure size 720x360 with 1 Axes>"
      ]
     },
     "metadata": {
      "needs_background": "light"
     },
     "output_type": "display_data"
    }
   ],
   "source": [
    "fig, ax1 = plt.subplots(figsize= (10, 5))\n",
    "plt.plot(history.history[\"accuracy\"])\n",
    "plt.plot(history.history[\"val_accuracy\"])\n",
    "plt.title(\"CNN Model accuracy for IMBALANCED\")\n",
    "plt.ylabel(\"Accuracy\")\n",
    "plt.xlabel(\"Epoch\")\n",
    "plt.legend([\"Train\", \"Test\"], loc = \"upper left\")\n",
    "plt.show()"
   ]
  },
  {
   "cell_type": "code",
   "execution_count": 185,
   "id": "6b7cabff",
   "metadata": {},
   "outputs": [
    {
     "data": {
      "image/png": "[encoded data removed]",
      "text/plain": [
       "<Figure size 720x360 with 1 Axes>"
      ]
     },
     "metadata": {
      "needs_background": "light"
     },
     "output_type": "display_data"
    }
   ],
   "source": [
    "fig, ax1 = plt.subplots(figsize= (10, 5))\n",
    "plt.plot(nhistory.history[\"accuracy\"])\n",
    "plt.plot(nhistory.history[\"val_accuracy\"])\n",
    "plt.title(\"CNN Model accuracy NEARMISS\")\n",
    "plt.ylabel(\"Accuracy\")\n",
    "plt.xlabel(\"Epoch\")\n",
    "plt.legend([\"Train\", \"Test\"], loc = \"upper left\")\n",
    "plt.show()"
   ]
  },
  {
   "cell_type": "code",
   "execution_count": 186,
   "id": "fb078920",
   "metadata": {},
   "outputs": [
    {
     "data": {
      "image/png": "[encoded data removed]",
      "text/plain": [
       "<Figure size 720x360 with 1 Axes>"
      ]
     },
     "metadata": {
      "needs_background": "light"
     },
     "output_type": "display_data"
    }
   ],
   "source": [
    "fig, ax1 = plt.subplots(figsize= (10, 5))\n",
    "plt.plot(shistory.history[\"accuracy\"])\n",
    "plt.plot(shistory.history[\"val_accuracy\"])\n",
    "plt.title(\"CNN Model accuracy SMOTE\")\n",
    "plt.ylabel(\"Accuracy\")\n",
    "plt.xlabel(\"Epoch\")\n",
    "plt.legend([\"Train\", \"Test\"], loc = \"upper left\")\n",
    "plt.show()"
   ]
  },
  {
   "cell_type": "code",
   "execution_count": 187,
   "id": "c34a5f85",
   "metadata": {},
   "outputs": [
    {
     "data": {
      "image/png": "[encoded data removed]",
      "text/plain": [
       "<Figure size 432x288 with 1 Axes>"
      ]
     },
     "metadata": {
      "needs_background": "light"
     },
     "output_type": "display_data"
    }
   ],
   "source": [
    "plt.plot(history.history['loss'])\n",
    "plt.plot(history.history['val_loss'])\n",
    "plt.title('CNN Model loss IMBALANCED')\n",
    "plt.ylabel('loss')\n",
    "plt.xlabel('epoch')\n",
    "plt.legend(['Train', 'Test'], loc='upper left')\n",
    "plt.show()"
   ]
  },
  {
   "cell_type": "code",
   "execution_count": 188,
   "id": "4f12f3cc",
   "metadata": {},
   "outputs": [
    {
     "data": {
      "image/png": "[encoded data removed]",
      "text/plain": [
       "<Figure size 432x288 with 1 Axes>"
      ]
     },
     "metadata": {
      "needs_background": "light"
     },
     "output_type": "display_data"
    }
   ],
   "source": [
    "plt.plot(nhistory.history['loss'])\n",
    "plt.plot(nhistory.history['val_loss'])\n",
    "plt.title('CNN Model loss NEARMISS')\n",
    "plt.ylabel('loss')\n",
    "plt.xlabel('epoch')\n",
    "plt.legend(['Train', 'Test'], loc='upper left')\n",
    "plt.show()"
   ]
  },
  {
   "cell_type": "code",
   "execution_count": 189,
   "id": "11605284",
   "metadata": {},
   "outputs": [
    {
     "data": {
      "image/png": "[encoded data removed]",
      "text/plain": [
       "<Figure size 432x288 with 1 Axes>"
      ]
     },
     "metadata": {
      "needs_background": "light"
     },
     "output_type": "display_data"
    }
   ],
   "source": [
    "plt.plot(shistory.history['loss'])\n",
    "plt.plot(shistory.history['val_loss'])\n",
    "plt.title('CNN Model loss SMOTE')\n",
    "plt.ylabel('loss')\n",
    "plt.xlabel('epoch')\n",
    "plt.legend(['Train', 'Test'], loc='upper left')\n",
    "plt.show()"
   ]
  },
  {
   "cell_type": "markdown",
   "id": "f0ef1d48",
   "metadata": {},
   "source": [
    "<font size=\"3\">CONFUSION MATRIX ALL MODELS</font>"
   ]
  },
  {
   "cell_type": "code",
   "execution_count": 109,
   "id": "6348a5e9",
   "metadata": {},
   "outputs": [
    {
     "data": {
      "image/png": "[encoded data removed]",
      "text/plain": [
       "<Figure size 432x288 with 2 Axes>"
      ]
     },
     "metadata": {
      "needs_background": "light"
     },
     "output_type": "display_data"
    }
   ],
   "source": [
    "confusion_matrix = metrics.confusion_matrix(y_test, yhat_classes)\n",
    "cm_display = metrics.ConfusionMatrixDisplay(confusion_matrix = confusion_matrix, display_labels = [1, 0])\n",
    "cm_display.plot()\n",
    "plt.title(\"IMBALANCED dataset CNN Confusion Matrix\")\n",
    "plt.show()"
   ]
  },
  {
   "cell_type": "code",
   "execution_count": 110,
   "id": "504ae4a0",
   "metadata": {},
   "outputs": [
    {
     "data": {
      "image/png": "[encoded data removed]",
      "text/plain": [
       "<Figure size 432x288 with 2 Axes>"
      ]
     },
     "metadata": {
      "needs_background": "light"
     },
     "output_type": "display_data"
    }
   ],
   "source": [
    "confusion_matrix = metrics.confusion_matrix(y_test, nyhat_classes)\n",
    "cm_display = metrics.ConfusionMatrixDisplay(confusion_matrix = confusion_matrix, display_labels = [1, 0])\n",
    "cm_display.plot()\n",
    "plt.title(\"NEARMISS CNN Confusion Matrix\")\n",
    "plt.show()"
   ]
  },
  {
   "cell_type": "code",
   "execution_count": 111,
   "id": "f5fc16fc",
   "metadata": {},
   "outputs": [
    {
     "data": {
      "image/png": "[encoded data removed]",
      "text/plain": [
       "<Figure size 432x288 with 2 Axes>"
      ]
     },
     "metadata": {
      "needs_background": "light"
     },
     "output_type": "display_data"
    }
   ],
   "source": [
    "confusion_matrix = metrics.confusion_matrix(y_test, syhat_classes)\n",
    "cm_display = metrics.ConfusionMatrixDisplay(confusion_matrix = confusion_matrix, display_labels = [1, 0])\n",
    "cm_display.plot()\n",
    "plt.title(\"SMOTE CNN Confusion Matrix\")\n",
    "plt.show()"
   ]
  },
  {
   "cell_type": "code",
   "execution_count": 112,
   "id": "8a9451a6",
   "metadata": {},
   "outputs": [
    {
     "data": {
      "image/png": "[encoded data removed]",
      "text/plain": [
       "<Figure size 432x288 with 2 Axes>"
      ]
     },
     "metadata": {
      "needs_background": "light"
     },
     "output_type": "display_data"
    }
   ],
   "source": [
    "confusion_matrix = metrics.confusion_matrix(y_test, logistic_reg_y_pred)\n",
    "cm_display = metrics.ConfusionMatrixDisplay(confusion_matrix = confusion_matrix, display_labels = [1, 0])\n",
    "cm_display.plot()\n",
    "plt.title(\"IMBALANCED dataset Logistic Regression Confusion Matrix\")\n",
    "plt.show()"
   ]
  },
  {
   "cell_type": "code",
   "execution_count": 113,
   "id": "78ed3690",
   "metadata": {},
   "outputs": [
    {
     "data": {
      "image/png": "[encoded data removed]",
      "text/plain": [
       "<Figure size 432x288 with 2 Axes>"
      ]
     },
     "metadata": {
      "needs_background": "light"
     },
     "output_type": "display_data"
    }
   ],
   "source": [
    "confusion_matrix = metrics.confusion_matrix(y_test, nlogistic_reg_y_pred)\n",
    "cm_display = metrics.ConfusionMatrixDisplay(confusion_matrix = confusion_matrix, display_labels = [1, 0])\n",
    "cm_display.plot()\n",
    "plt.title(\"NEARMISS Logistic Regression Confusion Matrix\")\n",
    "plt.show()"
   ]
  },
  {
   "cell_type": "code",
   "execution_count": 114,
   "id": "351e2bb7",
   "metadata": {},
   "outputs": [
    {
     "data": {
      "image/png": "[encoded data removed]",
      "text/plain": [
       "<Figure size 432x288 with 2 Axes>"
      ]
     },
     "metadata": {
      "needs_background": "light"
     },
     "output_type": "display_data"
    }
   ],
   "source": [
    "confusion_matrix = metrics.confusion_matrix(y_test, slogistic_reg_y_pred)\n",
    "cm_display = metrics.ConfusionMatrixDisplay(confusion_matrix = confusion_matrix, display_labels = [1, 0])\n",
    "cm_display.plot()\n",
    "plt.title(\"SMOTE Logistic Regression Confusion Matrix\")\n",
    "plt.show()"
   ]
  },
  {
   "cell_type": "code",
   "execution_count": 119,
   "id": "a41d01e0",
   "metadata": {},
   "outputs": [
    {
     "data": {
      "image/png": "[encoded data removed]",
      "text/plain": [
       "<Figure size 432x288 with 2 Axes>"
      ]
     },
     "metadata": {
      "needs_background": "light"
     },
     "output_type": "display_data"
    }
   ],
   "source": [
    "confusion_matrix = metrics.confusion_matrix(y_test, dt_y_pred)\n",
    "cm_display = metrics.ConfusionMatrixDisplay(confusion_matrix = confusion_matrix, display_labels = [1, 0])\n",
    "cm_display.plot()\n",
    "plt.title(\"IMBALANCED Decision Tree Confusion Matrix\")\n",
    "plt.show()"
   ]
  },
  {
   "cell_type": "code",
   "execution_count": 181,
   "id": "4a72566e",
   "metadata": {},
   "outputs": [
    {
     "data": {
      "image/png": "[encoded data removed]",
      "text/plain": [
       "<Figure size 432x288 with 2 Axes>"
      ]
     },
     "metadata": {
      "needs_background": "light"
     },
     "output_type": "display_data"
    }
   ],
   "source": [
    "confusion_matrix = metrics.confusion_matrix(y_test, ndt_y_pred)\n",
    "cm_display = metrics.ConfusionMatrixDisplay(confusion_matrix = confusion_matrix, display_labels = [1, 0])\n",
    "cm_display.plot()\n",
    "plt.title(\"NEARMISS Decision Tree Confusion Matrix\")\n",
    "plt.show()"
   ]
  },
  {
   "cell_type": "code",
   "execution_count": 121,
   "id": "93c02fc2",
   "metadata": {},
   "outputs": [
    {
     "data": {
      "image/png": "[encoded data removed]",
      "text/plain": [
       "<Figure size 432x288 with 2 Axes>"
      ]
     },
     "metadata": {
      "needs_background": "light"
     },
     "output_type": "display_data"
    }
   ],
   "source": [
    "confusion_matrix = metrics.confusion_matrix(y_test, sdt_y_pred)\n",
    "cm_display = metrics.ConfusionMatrixDisplay(confusion_matrix = confusion_matrix, display_labels = [1, 0])\n",
    "cm_display.plot()\n",
    "plt.title(\"SMOTE Decision Tree Confusion Matrix\")\n",
    "plt.show()"
   ]
  },
  {
   "cell_type": "code",
   "execution_count": 115,
   "id": "07df9e53",
   "metadata": {},
   "outputs": [
    {
     "data": {
      "image/png": "[encoded data removed]",
      "text/plain": [
       "<Figure size 432x288 with 2 Axes>"
      ]
     },
     "metadata": {
      "needs_background": "light"
     },
     "output_type": "display_data"
    }
   ],
   "source": [
    "confusion_matrix = metrics.confusion_matrix(y_test, rf_pred)\n",
    "cm_display = metrics.ConfusionMatrixDisplay(confusion_matrix = confusion_matrix, display_labels = [1, 0])\n",
    "cm_display.plot()\n",
    "plt.title(\"IMBALANCED Random Forest Confusion Matrix\")\n",
    "plt.show()"
   ]
  },
  {
   "cell_type": "code",
   "execution_count": 116,
   "id": "e8261c64",
   "metadata": {},
   "outputs": [
    {
     "data": {
      "image/png": "[encoded data removed]",
      "text/plain": [
       "<Figure size 432x288 with 2 Axes>"
      ]
     },
     "metadata": {
      "needs_background": "light"
     },
     "output_type": "display_data"
    }
   ],
   "source": [
    "confusion_matrix = metrics.confusion_matrix(y_test, nrf_pred)\n",
    "cm_display = metrics.ConfusionMatrixDisplay(confusion_matrix = confusion_matrix, display_labels = [1, 0])\n",
    "cm_display.plot()\n",
    "plt.title(\"NEARMISS Random Forest Confusion Matrix\")\n",
    "plt.show()"
   ]
  },
  {
   "cell_type": "code",
   "execution_count": 117,
   "id": "959e4730",
   "metadata": {},
   "outputs": [
    {
     "data": {
      "image/png": "[encoded data removed]",
      "text/plain": [
       "<Figure size 432x288 with 2 Axes>"
      ]
     },
     "metadata": {
      "needs_background": "light"
     },
     "output_type": "display_data"
    }
   ],
   "source": [
    "confusion_matrix = metrics.confusion_matrix(y_test, srf_pred)\n",
    "cm_display = metrics.ConfusionMatrixDisplay(confusion_matrix = confusion_matrix, display_labels = [1, 0])\n",
    "cm_display.plot()\n",
    "plt.title(\"SMOTE Random Forest Confusion Matrix\")\n",
    "plt.show()"
   ]
  },
  {
   "cell_type": "markdown",
   "id": "213837d4",
   "metadata": {},
   "source": [
    "<font size=\"4\">Improving Credit Card Fraud Detection based on CNN </font>"
   ]
  },
  {
   "cell_type": "code",
   "execution_count": 37,
   "id": "aec58e96",
   "metadata": {},
   "outputs": [],
   "source": [
    "non_fraud = df[df['Class']==0]\n",
    "fraud = df[df['Class']==1]"
   ]
  },
  {
   "cell_type": "code",
   "execution_count": 38,
   "id": "fd16ddfd",
   "metadata": {},
   "outputs": [],
   "source": [
    "nfraud_downsampled = resample(non_fraud, \n",
    "                                 replace=False,    # sample without replacement\n",
    "                                 n_samples=len(fraud),  # to match minority class\n",
    "                                 random_state=27)"
   ]
  },
  {
   "cell_type": "code",
   "execution_count": 39,
   "id": "bb8dd020",
   "metadata": {},
   "outputs": [
    {
     "data": {
      "text/plain": [
       "0    492\n",
       "1    492\n",
       "Name: Class, dtype: int64"
      ]
     },
     "execution_count": 39,
     "metadata": {},
     "output_type": "execute_result"
    }
   ],
   "source": [
    "df_downsampled = pd.concat([nfraud_downsampled, fraud])\n",
    "df_downsampled.Class.value_counts()"
   ]
  },
  {
   "cell_type": "code",
   "execution_count": 40,
   "id": "bddeec56",
   "metadata": {},
   "outputs": [],
   "source": [
    "x = df_downsampled.drop(\"Class\", axis = 1)\n",
    "y = df_downsampled.Class\n",
    "xtrain, xtest, ytrain, ytest = train_test_split(x, y, test_size = 0.2, random_state = 42)"
   ]
  },
  {
   "cell_type": "code",
   "execution_count": 41,
   "id": "76ffaeb8",
   "metadata": {},
   "outputs": [],
   "source": [
    "scaler = StandardScaler()\n"
   ]
  },
  {
   "cell_type": "code",
   "execution_count": 42,
   "id": "a9b0caa1",
   "metadata": {},
   "outputs": [
    {
     "data": {
      "image/png": "[encoded data removed]",
      "text/plain": [
       "<Figure size 432x288 with 1 Axes>"
      ]
     },
     "metadata": {
      "needs_background": "light"
     },
     "output_type": "display_data"
    }
   ],
   "source": [
    "colors = [\"#b9b9ff\", \"#ff2122\"]#ff6d92\n",
    "sns.countplot('Class', data=df_downsampled, palette=colors)\n",
    "plt.title('Class Distributions with under-sampling\\n (0: No Fraud || 1: Fraud)', fontsize=14)\n",
    "plt.show()"
   ]
  },
  {
   "cell_type": "code",
   "execution_count": 43,
   "id": "e1642b72",
   "metadata": {},
   "outputs": [],
   "source": [
    "xtrain = df_downsampled.drop(['Class'], axis=1)\n",
    "ytrain = df_downsampled.Class"
   ]
  },
  {
   "cell_type": "code",
   "execution_count": 44,
   "id": "1abe8ff3",
   "metadata": {},
   "outputs": [
    {
     "data": {
      "text/plain": [
       "(787,)"
      ]
     },
     "execution_count": 44,
     "metadata": {},
     "output_type": "execute_result"
    }
   ],
   "source": [
    "xtrain, xtest, ytrain, ytest = train_test_split(xtrain,ytrain,test_size=0.2,random_state=99)\n",
    "ytrain.shape"
   ]
  },
  {
   "cell_type": "code",
   "execution_count": 45,
   "id": "8db593fb",
   "metadata": {},
   "outputs": [],
   "source": [
    "scaler = StandardScaler()\n",
    "scaled_xtrain = scaler.fit_transform(xtrain)\n",
    "scaled_xtest = scaler.fit_transform(xtest)"
   ]
  },
  {
   "cell_type": "code",
   "execution_count": 46,
   "id": "7a4a5e93",
   "metadata": {},
   "outputs": [
    {
     "data": {
      "text/plain": [
       "((787, 30, 1), (197, 30, 1))"
      ]
     },
     "execution_count": 46,
     "metadata": {},
     "output_type": "execute_result"
    }
   ],
   "source": [
    "#reshaping the input to 3D for the CNN model\n",
    "scaled_xtrain=scaled_xtrain.reshape(scaled_xtrain.shape[0],scaled_xtrain.shape[1],1)\n",
    "scaled_xtest=scaled_xtest.reshape(scaled_xtest.shape[0],scaled_xtest.shape[1],1)\n",
    "\n",
    "# check the shape again\n",
    "scaled_xtrain.shape, scaled_xtest.shape"
   ]
  },
  {
   "cell_type": "code",
   "execution_count": 47,
   "id": "e36dacd3",
   "metadata": {},
   "outputs": [],
   "source": [
    "# import model\n",
    "dmodel=Sequential()\n",
    "# layers\n",
    "dmodel.add(Conv1D(filters=32, kernel_size=2, activation='relu', input_shape=scaled_xtrain[0].shape))\n",
    "dmodel.add(BatchNormalization())\n",
    "dmodel.add(Dropout(0.2))\n",
    "\n",
    "dmodel.add(Conv1D(filters=64, kernel_size=2, activation='relu'))\n",
    "dmodel.add(BatchNormalization())\n",
    "dmodel.add(Dropout(0.2))\n",
    "\n",
    "# build ANN\n",
    "dmodel.add(Flatten())\n",
    "dmodel.add(Dense(64, activation='relu'))\n",
    "dmodel.add(Dropout(0.5))\n",
    "#model.add(Dense(1, activation='relu'))# accuracy: 0.9365\n",
    "dmodel.add(Dense(1, activation='sigmoid'))"
   ]
  },
  {
   "cell_type": "code",
   "execution_count": 48,
   "id": "9bf7554d",
   "metadata": {},
   "outputs": [
    {
     "name": "stdout",
     "output_type": "stream",
     "text": [
      "Model: \"sequential_2\"\n",
      "_________________________________________________________________\n",
      " Layer (type)                Output Shape              Param #   \n",
      "=================================================================\n",
      " conv1d_4 (Conv1D)           (None, 29, 32)            96        \n",
      "                                                                 \n",
      " batch_normalization_4 (Batc  (None, 29, 32)           128       \n",
      " hNormalization)                                                 \n",
      "                                                                 \n",
      " dropout_6 (Dropout)         (None, 29, 32)            0         \n",
      "                                                                 \n",
      " conv1d_5 (Conv1D)           (None, 28, 64)            4160      \n",
      "                                                                 \n",
      " batch_normalization_5 (Batc  (None, 28, 64)           256       \n",
      " hNormalization)                                                 \n",
      "                                                                 \n",
      " dropout_7 (Dropout)         (None, 28, 64)            0         \n",
      "                                                                 \n",
      " flatten_2 (Flatten)         (None, 1792)              0         \n",
      "                                                                 \n",
      " dense_4 (Dense)             (None, 64)                114752    \n",
      "                                                                 \n",
      " dropout_8 (Dropout)         (None, 64)                0         \n",
      "                                                                 \n",
      " dense_5 (Dense)             (None, 1)                 65        \n",
      "                                                                 \n",
      "=================================================================\n",
      "Total params: 119,457\n",
      "Trainable params: 119,265\n",
      "Non-trainable params: 192\n",
      "_________________________________________________________________\n"
     ]
    }
   ],
   "source": [
    "dmodel.summary()"
   ]
  },
  {
   "cell_type": "code",
   "execution_count": 49,
   "id": "03011436",
   "metadata": {},
   "outputs": [],
   "source": [
    "dmodel.compile(optimizer='adam', loss='binary_crossentropy', metrics=['accuracy'])"
   ]
  },
  {
   "cell_type": "code",
   "execution_count": 51,
   "id": "6cdb85f0",
   "metadata": {},
   "outputs": [
    {
     "name": "stdout",
     "output_type": "stream",
     "text": [
      "Epoch 1/20\n",
      "25/25 [==============================] - 1s 25ms/step - loss: 0.0812 - accuracy: 0.9670 - val_loss: 0.1654 - val_accuracy: 0.9391\n",
      "Epoch 2/20\n",
      "25/25 [==============================] - 1s 21ms/step - loss: 0.0736 - accuracy: 0.9695 - val_loss: 0.1612 - val_accuracy: 0.9442\n",
      "Epoch 3/20\n",
      "25/25 [==============================] - 0s 20ms/step - loss: 0.0631 - accuracy: 0.9720 - val_loss: 0.1698 - val_accuracy: 0.9442\n",
      "Epoch 4/20\n",
      "25/25 [==============================] - 1s 20ms/step - loss: 0.0547 - accuracy: 0.9797 - val_loss: 0.1590 - val_accuracy: 0.9442\n",
      "Epoch 5/20\n",
      "25/25 [==============================] - 1s 20ms/step - loss: 0.0764 - accuracy: 0.9733 - val_loss: 0.1577 - val_accuracy: 0.9442\n",
      "Epoch 6/20\n",
      "25/25 [==============================] - 0s 20ms/step - loss: 0.0703 - accuracy: 0.9759 - val_loss: 0.1767 - val_accuracy: 0.9391\n",
      "Epoch 7/20\n",
      "25/25 [==============================] - 0s 20ms/step - loss: 0.0768 - accuracy: 0.9695 - val_loss: 0.1559 - val_accuracy: 0.9340\n",
      "Epoch 8/20\n",
      "25/25 [==============================] - 0s 20ms/step - loss: 0.0606 - accuracy: 0.9822 - val_loss: 0.1715 - val_accuracy: 0.9340\n",
      "Epoch 9/20\n",
      "25/25 [==============================] - 1s 21ms/step - loss: 0.0498 - accuracy: 0.9784 - val_loss: 0.1847 - val_accuracy: 0.9239\n",
      "Epoch 10/20\n",
      "25/25 [==============================] - 1s 20ms/step - loss: 0.0507 - accuracy: 0.9771 - val_loss: 0.1844 - val_accuracy: 0.9391\n",
      "Epoch 11/20\n",
      "25/25 [==============================] - 1s 21ms/step - loss: 0.0555 - accuracy: 0.9797 - val_loss: 0.1821 - val_accuracy: 0.9239\n",
      "Epoch 12/20\n",
      "25/25 [==============================] - 0s 20ms/step - loss: 0.0633 - accuracy: 0.9759 - val_loss: 0.1698 - val_accuracy: 0.9188\n",
      "Epoch 13/20\n",
      "25/25 [==============================] - 1s 20ms/step - loss: 0.0562 - accuracy: 0.9720 - val_loss: 0.1813 - val_accuracy: 0.9340\n",
      "Epoch 14/20\n",
      "25/25 [==============================] - 0s 20ms/step - loss: 0.0634 - accuracy: 0.9759 - val_loss: 0.1888 - val_accuracy: 0.9340\n",
      "Epoch 15/20\n",
      "25/25 [==============================] - 0s 20ms/step - loss: 0.0586 - accuracy: 0.9784 - val_loss: 0.2010 - val_accuracy: 0.9340\n",
      "Epoch 16/20\n",
      "25/25 [==============================] - 1s 20ms/step - loss: 0.0427 - accuracy: 0.9860 - val_loss: 0.1988 - val_accuracy: 0.9340\n",
      "Epoch 17/20\n",
      "25/25 [==============================] - 0s 20ms/step - loss: 0.0478 - accuracy: 0.9848 - val_loss: 0.2034 - val_accuracy: 0.9340\n",
      "Epoch 18/20\n",
      "25/25 [==============================] - 0s 20ms/step - loss: 0.0548 - accuracy: 0.9771 - val_loss: 0.2138 - val_accuracy: 0.9391\n",
      "Epoch 19/20\n",
      "25/25 [==============================] - 0s 20ms/step - loss: 0.0432 - accuracy: 0.9873 - val_loss: 0.2412 - val_accuracy: 0.9340\n",
      "Epoch 20/20\n",
      "25/25 [==============================] - 1s 22ms/step - loss: 0.0415 - accuracy: 0.9809 - val_loss: 0.2081 - val_accuracy: 0.9442\n",
      "Training time for CNN model: 10.506782293319702\n"
     ]
    }
   ],
   "source": [
    "dcnnstart = time.time()\n",
    "history=dmodel.fit(scaled_xtrain,ytrain,epochs=20,validation_data=(scaled_xtest,ytest))\n",
    "dcnntime=time.time() - dcnnstart\n",
    "print(f'Training time for CNN model: {dcnntime}')"
   ]
  },
  {
   "cell_type": "code",
   "execution_count": 52,
   "id": "06ef6a15",
   "metadata": {},
   "outputs": [],
   "source": [
    "# evaluate the model\n",
    "_, dtrain_acc = dmodel.evaluate(scaled_xtrain, ytrain, verbose=0)\n",
    "_, dtest_acc = dmodel.evaluate(scaled_xtest, ytest, verbose=0)"
   ]
  },
  {
   "cell_type": "code",
   "execution_count": 53,
   "id": "6e9eb187",
   "metadata": {},
   "outputs": [
    {
     "name": "stdout",
     "output_type": "stream",
     "text": [
      "train acc:  1.0\n",
      "test acc:  0.9441624283790588\n"
     ]
    }
   ],
   "source": [
    "print(\"train acc: \", dtrain_acc)\n",
    "print(\"test acc: \", dtest_acc)"
   ]
  },
  {
   "cell_type": "code",
   "execution_count": 54,
   "id": "0ee2dd05",
   "metadata": {},
   "outputs": [
    {
     "name": "stdout",
     "output_type": "stream",
     "text": [
      "7/7 [==============================] - 0s 6ms/step\n"
     ]
    }
   ],
   "source": [
    "# predict probabilities for test set\n",
    "dyhat_probs = dmodel.predict(scaled_xtest, verbose=0)\n",
    "# predict crisp classes for test set\n",
    "dyhat_classes = (dmodel.predict(scaled_xtest) > 0.5).astype(\"int32\")\n"
   ]
  },
  {
   "cell_type": "code",
   "execution_count": 55,
   "id": "ec4a93d8",
   "metadata": {},
   "outputs": [],
   "source": [
    "# reduce to 1d array\n",
    "dyhat_probs = dyhat_probs[:, 0]\n",
    "dyhat_classes = dyhat_classes[:, 0]"
   ]
  },
  {
   "cell_type": "code",
   "execution_count": 57,
   "id": "eced9ef6",
   "metadata": {},
   "outputs": [
    {
     "name": "stdout",
     "output_type": "stream",
     "text": [
      "Accuracy: 0.944162\n",
      "Precision: 0.960000\n",
      "Recall: 0.932039\n",
      "F1 score: 0.945813\n",
      "ROC AUC: 0.976968\n"
     ]
    }
   ],
   "source": [
    "dcnn_acc = accuracy_score(ytest, dyhat_classes) # accuracy: (tp + tn) / (p + n)\n",
    "print('Accuracy: %f' % dcnn_acc)\n",
    "\n",
    "dcnn_precision = precision_score(ytest, dyhat_classes) # precision tp / (tp + fp)\n",
    "print('Precision: %f' % dcnn_precision)\n",
    "\n",
    "dcnn_recall = recall_score(ytest, dyhat_classes) # recall: tp / (tp + fn)\n",
    "print('Recall: %f' % dcnn_recall)\n",
    "\n",
    "dcnn_f1 = f1_score(ytest, dyhat_classes) # f1: 2 tp / (2 tp + fp + fn)\n",
    "print('F1 score: %f' % dcnn_f1)\n",
    "\n",
    "dcnn_auc = roc_auc_score(ytest, dyhat_probs)\n",
    "print('ROC AUC: %f' % dcnn_auc)"
   ]
  },
  {
   "cell_type": "code",
   "execution_count": 58,
   "id": "0846faaf",
   "metadata": {},
   "outputs": [
    {
     "data": {
      "text/html": [
       "<style type=\"text/css\">\n",
       "</style>\n",
       "<table id=\"T_1a503_\">\n",
       "  <caption>Down-Sampling Dataset and CNN Model with their performance metrics </caption>\n",
       "  <thead>\n",
       "    <tr>\n",
       "      <th class=\"blank level0\" >&nbsp;</th>\n",
       "      <th class=\"col_heading level0 col0\" >Model</th>\n",
       "      <th class=\"col_heading level0 col1\" >Accuracy Score</th>\n",
       "      <th class=\"col_heading level0 col2\" >Recall Score</th>\n",
       "      <th class=\"col_heading level0 col3\" >F1 Score</th>\n",
       "      <th class=\"col_heading level0 col4\" >Precision Score</th>\n",
       "      <th class=\"col_heading level0 col5\" >ROC-AUC Score</th>\n",
       "      <th class=\"col_heading level0 col6\" >Time</th>\n",
       "    </tr>\n",
       "  </thead>\n",
       "  <tbody>\n",
       "    <tr>\n",
       "      <th id=\"T_1a503_level0_row0\" class=\"row_heading level0 row0\" >0</th>\n",
       "      <td id=\"T_1a503_row0_col0\" class=\"data row0 col0\" >CNN</td>\n",
       "      <td id=\"T_1a503_row0_col1\" class=\"data row0 col1\" >0.944162</td>\n",
       "      <td id=\"T_1a503_row0_col2\" class=\"data row0 col2\" >0.932039</td>\n",
       "      <td id=\"T_1a503_row0_col3\" class=\"data row0 col3\" >0.945813</td>\n",
       "      <td id=\"T_1a503_row0_col4\" class=\"data row0 col4\" >0.960000</td>\n",
       "      <td id=\"T_1a503_row0_col5\" class=\"data row0 col5\" >0.976968</td>\n",
       "      <td id=\"T_1a503_row0_col6\" class=\"data row0 col6\" >10.506782</td>\n",
       "    </tr>\n",
       "  </tbody>\n",
       "</table>\n"
      ],
      "text/plain": [
       "<pandas.io.formats.style.Styler at 0x1e5f0908e50>"
      ]
     },
     "execution_count": 58,
     "metadata": {},
     "output_type": "execute_result"
    }
   ],
   "source": [
    "d = {'Model': ['CNN'], 'Accuracy Score': [dcnn_acc],'Recall Score': [dcnn_recall],'F1 Score': [dcnn_f1],'Precision Score': [dcnn_precision],'ROC-AUC Score': [dcnn_auc],'Time': [dcnntime]}\n",
    "score_df = pd.DataFrame(data=d)\n",
    "score_df.style.set_caption(\"Down-Sampling Dataset and CNN Model with their performance metrics \")"
   ]
  },
  {
   "cell_type": "code",
   "execution_count": 60,
   "id": "386349fd",
   "metadata": {},
   "outputs": [
    {
     "data": {
      "image/png": "[encoded data removed]",
      "text/plain": [
       "<Figure size 720x360 with 1 Axes>"
      ]
     },
     "metadata": {
      "needs_background": "light"
     },
     "output_type": "display_data"
    }
   ],
   "source": [
    "fig, ax1 = plt.subplots(figsize= (10, 5))\n",
    "plt.plot(history.history[\"accuracy\"])\n",
    "plt.plot(history.history[\"val_accuracy\"])\n",
    "plt.title(\"CNN Model accuracy Undersampling\")\n",
    "plt.ylabel(\"Accuracy\")\n",
    "plt.xlabel(\"Epoch\")\n",
    "plt.legend([\"Train\", \"Test\"], loc = \"upper left\")\n",
    "plt.show()"
   ]
  },
  {
   "cell_type": "code",
   "execution_count": 61,
   "id": "1742272a",
   "metadata": {},
   "outputs": [
    {
     "data": {
      "image/png": "[encoded data removed]",
      "text/plain": [
       "<Figure size 432x288 with 1 Axes>"
      ]
     },
     "metadata": {
      "needs_background": "light"
     },
     "output_type": "display_data"
    }
   ],
   "source": [
    "plt.plot(history.history['loss'])\n",
    "plt.plot(history.history['val_loss'])\n",
    "plt.title('CNN Model loss Undersampling')\n",
    "plt.ylabel('loss')\n",
    "plt.xlabel('epoch')\n",
    "plt.legend(['Train', 'Test'], loc='upper left')\n",
    "plt.show()"
   ]
  },
  {
   "cell_type": "code",
   "execution_count": 104,
   "id": "d496907a",
   "metadata": {},
   "outputs": [],
   "source": [
    "# import model\n",
    "from keras.layers import Conv1D, MaxPool1D\n",
    "dmodel=Sequential()\n",
    "# layers\n",
    "dmodel.add(Conv1D(filters=32, kernel_size=2, activation='relu', input_shape=scaled_xtrain[0].shape))\n",
    "dmodel.add(BatchNormalization())\n",
    "dmodel.add(Dropout(0.2))\n",
    "\n",
    "dmodel.add(Conv1D(filters=64, kernel_size=2, activation='relu'))\n",
    "dmodel.add(BatchNormalization())\n",
    "dmodel.add(MaxPool1D(2))\n",
    "dmodel.add(Dropout(0.2))\n",
    "\n",
    "# build ANN\n",
    "dmodel.add(Flatten())\n",
    "dmodel.add(Dense(64, activation='relu'))\n",
    "dmodel.add(Dropout(0.5))\n",
    "#dmodel.add(Dense(1, activation='relu'))# accuracy: 0.9365\n",
    "dmodel.add(Dense(1, activation='sigmoid'))"
   ]
  },
  {
   "cell_type": "code",
   "execution_count": 105,
   "id": "8753a7de",
   "metadata": {},
   "outputs": [],
   "source": [
    "dmodel.compile(optimizer='adam', loss='binary_crossentropy', metrics=['accuracy'])"
   ]
  },
  {
   "cell_type": "code",
   "execution_count": 106,
   "id": "cf48408e",
   "metadata": {},
   "outputs": [
    {
     "name": "stdout",
     "output_type": "stream",
     "text": [
      "Epoch 1/20\n",
      "25/25 [==============================] - 6s 47ms/step - loss: 0.4861 - accuracy: 0.8196 - val_loss: 0.5343 - val_accuracy: 0.8528\n",
      "Epoch 2/20\n",
      "25/25 [==============================] - 1s 25ms/step - loss: 0.2233 - accuracy: 0.9250 - val_loss: 0.5002 - val_accuracy: 0.8223\n",
      "Epoch 3/20\n",
      "25/25 [==============================] - 1s 25ms/step - loss: 0.1934 - accuracy: 0.9301 - val_loss: 0.4636 - val_accuracy: 0.7817\n",
      "Epoch 4/20\n",
      "25/25 [==============================] - 1s 25ms/step - loss: 0.1923 - accuracy: 0.9187 - val_loss: 0.4375 - val_accuracy: 0.7817\n",
      "Epoch 5/20\n",
      "25/25 [==============================] - 1s 25ms/step - loss: 0.1782 - accuracy: 0.9327 - val_loss: 0.4248 - val_accuracy: 0.8020\n",
      "Epoch 6/20\n",
      "25/25 [==============================] - 1s 25ms/step - loss: 0.1578 - accuracy: 0.9416 - val_loss: 0.4014 - val_accuracy: 0.8122\n",
      "Epoch 7/20\n",
      "25/25 [==============================] - 1s 25ms/step - loss: 0.1439 - accuracy: 0.9441 - val_loss: 0.3741 - val_accuracy: 0.8325\n",
      "Epoch 8/20\n",
      "25/25 [==============================] - 1s 26ms/step - loss: 0.1299 - accuracy: 0.9555 - val_loss: 0.3357 - val_accuracy: 0.8629\n",
      "Epoch 9/20\n",
      "25/25 [==============================] - 1s 24ms/step - loss: 0.1454 - accuracy: 0.9466 - val_loss: 0.3055 - val_accuracy: 0.8731\n",
      "Epoch 10/20\n",
      "25/25 [==============================] - 1s 27ms/step - loss: 0.1448 - accuracy: 0.9441 - val_loss: 0.2772 - val_accuracy: 0.8985\n",
      "Epoch 11/20\n",
      "25/25 [==============================] - 1s 26ms/step - loss: 0.1430 - accuracy: 0.9454 - val_loss: 0.2740 - val_accuracy: 0.9086\n",
      "Epoch 12/20\n",
      "25/25 [==============================] - 1s 24ms/step - loss: 0.1393 - accuracy: 0.9517 - val_loss: 0.2644 - val_accuracy: 0.9086\n",
      "Epoch 13/20\n",
      "25/25 [==============================] - 1s 23ms/step - loss: 0.1409 - accuracy: 0.9454 - val_loss: 0.2463 - val_accuracy: 0.9086\n",
      "Epoch 14/20\n",
      "25/25 [==============================] - 1s 25ms/step - loss: 0.1125 - accuracy: 0.9593 - val_loss: 0.2314 - val_accuracy: 0.9239\n",
      "Epoch 15/20\n",
      "25/25 [==============================] - 1s 26ms/step - loss: 0.1374 - accuracy: 0.9466 - val_loss: 0.2091 - val_accuracy: 0.9289\n",
      "Epoch 16/20\n",
      "25/25 [==============================] - 1s 24ms/step - loss: 0.1134 - accuracy: 0.9657 - val_loss: 0.2070 - val_accuracy: 0.9239\n",
      "Epoch 17/20\n",
      "25/25 [==============================] - 1s 25ms/step - loss: 0.1203 - accuracy: 0.9568 - val_loss: 0.1909 - val_accuracy: 0.9289\n",
      "Epoch 18/20\n",
      "25/25 [==============================] - 1s 24ms/step - loss: 0.1195 - accuracy: 0.9530 - val_loss: 0.1972 - val_accuracy: 0.9289\n",
      "Epoch 19/20\n",
      "25/25 [==============================] - 1s 25ms/step - loss: 0.1087 - accuracy: 0.9606 - val_loss: 0.1784 - val_accuracy: 0.9492\n",
      "Epoch 20/20\n",
      "25/25 [==============================] - 1s 26ms/step - loss: 0.1131 - accuracy: 0.9606 - val_loss: 0.1892 - val_accuracy: 0.9391\n",
      "Training time for CNN model: 17.960419416427612\n"
     ]
    }
   ],
   "source": [
    "dcnnstart = time.time()\n",
    "history=dmodel.fit(scaled_xtrain,ytrain,epochs=20,validation_data=(scaled_xtest,ytest))\n",
    "dcnntime=time.time() - dcnnstart\n",
    "print(f'Training time for CNN model: {dcnntime}')"
   ]
  },
  {
   "cell_type": "code",
   "execution_count": 107,
   "id": "c71a567c",
   "metadata": {},
   "outputs": [
    {
     "data": {
      "image/png": "[encoded data removed]",
      "text/plain": [
       "<Figure size 720x360 with 1 Axes>"
      ]
     },
     "metadata": {
      "needs_background": "light"
     },
     "output_type": "display_data"
    }
   ],
   "source": [
    "fig, ax1 = plt.subplots(figsize= (10, 5))\n",
    "plt.plot(history.history[\"accuracy\"])\n",
    "plt.plot(history.history[\"val_accuracy\"])\n",
    "plt.title(\"CNN Model with max-pooling accuracy Undersampling\")\n",
    "plt.ylabel(\"Accuracy\")\n",
    "plt.xlabel(\"Epoch\")\n",
    "plt.legend([\"Train\", \"Test\"], loc = \"upper left\")\n",
    "plt.show()"
   ]
  },
  {
   "cell_type": "code",
   "execution_count": 108,
   "id": "ec7b70b3",
   "metadata": {},
   "outputs": [
    {
     "data": {
      "image/png": "[encoded data removed]",
      "text/plain": [
       "<Figure size 432x288 with 1 Axes>"
      ]
     },
     "metadata": {
      "needs_background": "light"
     },
     "output_type": "display_data"
    }
   ],
   "source": [
    "plt.plot(history.history['loss'])\n",
    "plt.plot(history.history['val_loss'])\n",
    "plt.title('CNN Model with max-pooling loss Undersampling')\n",
    "plt.ylabel('loss')\n",
    "plt.xlabel('epoch')\n",
    "plt.legend(['Train', 'Test'], loc='upper left')\n",
    "plt.show()"
   ]
  },
  {
   "cell_type": "code",
   "execution_count": 109,
   "id": "cc56a861",
   "metadata": {},
   "outputs": [
    {
     "name": "stdout",
     "output_type": "stream",
     "text": [
      "7/7 [==============================] - 0s 7ms/step\n"
     ]
    }
   ],
   "source": [
    "# predict probabilities for test set\n",
    "dyhat_probs = dmodel.predict(scaled_xtest, verbose=0)\n",
    "# predict crisp classes for test set\n",
    "dyhat_classes = (dmodel.predict(scaled_xtest) > 0.5).astype(\"int32\")\n",
    "dyhat_probs = dyhat_probs[:, 0]\n",
    "dyhat_classes = dyhat_classes[:, 0]"
   ]
  },
  {
   "cell_type": "code",
   "execution_count": 110,
   "id": "2f8c29b5",
   "metadata": {},
   "outputs": [
    {
     "name": "stdout",
     "output_type": "stream",
     "text": [
      "Accuracy: 0.939086\n",
      "Precision: 0.978947\n",
      "Recall: 0.902913\n",
      "F1 score: 0.939394\n",
      "ROC AUC: 0.975005\n"
     ]
    }
   ],
   "source": [
    "dcnn_acc = accuracy_score(ytest, dyhat_classes) # accuracy: (tp + tn) / (p + n)\n",
    "print('Accuracy: %f' % dcnn_acc)\n",
    "\n",
    "dcnn_precision = precision_score(ytest, dyhat_classes) # precision tp / (tp + fp)\n",
    "print('Precision: %f' % dcnn_precision)\n",
    "\n",
    "dcnn_recall = recall_score(ytest, dyhat_classes) # recall: tp / (tp + fn)\n",
    "print('Recall: %f' % dcnn_recall)\n",
    "\n",
    "dcnn_f1 = f1_score(ytest, dyhat_classes) # f1: 2 tp / (2 tp + fp + fn)\n",
    "print('F1 score: %f' % dcnn_f1)\n",
    "\n",
    "dcnn_auc = roc_auc_score(ytest, dyhat_probs)\n",
    "print('ROC AUC: %f' % dcnn_auc)"
   ]
  },
  {
   "cell_type": "code",
   "execution_count": 111,
   "id": "fba34f3e",
   "metadata": {},
   "outputs": [],
   "source": [
    "#max pooling ile"
   ]
  },
  {
   "cell_type": "code",
   "execution_count": null,
   "id": "8874b2a9",
   "metadata": {},
   "outputs": [],
   "source": []
  },
  {
   "cell_type": "code",
   "execution_count": null,
   "id": "213d1013",
   "metadata": {},
   "outputs": [],
   "source": []
  }
 ],
 "metadata": {
  "kernelspec": {
   "display_name": "Python 3 (ipykernel)",
   "language": "python",
   "name": "python3"
  },
  "language_info": {
   "codemirror_mode": {
    "name": "ipython",
    "version": 3
   },
   "file_extension": ".py",
   "mimetype": "text/x-python",
   "name": "python",
   "nbconvert_exporter": "python",
   "pygments_lexer": "ipython3",
   "version": "3.9.7"
  }
 },
 "nbformat": 4,
 "nbformat_minor": 5
}
